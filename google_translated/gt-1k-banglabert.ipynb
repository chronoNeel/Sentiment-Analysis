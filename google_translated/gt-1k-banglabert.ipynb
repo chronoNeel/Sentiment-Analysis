{
 "cells": [
  {
   "cell_type": "markdown",
   "id": "cbd5f1fe",
   "metadata": {
    "papermill": {
     "duration": 0.004839,
     "end_time": "2024-12-26T05:53:11.756561",
     "exception": false,
     "start_time": "2024-12-26T05:53:11.751722",
     "status": "completed"
    },
    "tags": []
   },
   "source": [
    "# Import and Install"
   ]
  },
  {
   "cell_type": "code",
   "execution_count": 1,
   "id": "029f9eae",
   "metadata": {
    "_kg_hide-output": true,
    "execution": {
     "iopub.execute_input": "2024-12-26T05:53:11.766347Z",
     "iopub.status.busy": "2024-12-26T05:53:11.765723Z",
     "iopub.status.idle": "2024-12-26T05:53:27.346576Z",
     "shell.execute_reply": "2024-12-26T05:53:27.345394Z"
    },
    "papermill": {
     "duration": 15.587721,
     "end_time": "2024-12-26T05:53:27.348443",
     "exception": false,
     "start_time": "2024-12-26T05:53:11.760722",
     "status": "completed"
    },
    "tags": []
   },
   "outputs": [
    {
     "name": "stdout",
     "output_type": "stream",
     "text": [
      "Note: you may need to restart the kernel to use updated packages.\n"
     ]
    }
   ],
   "source": [
    "pip install git+https://github.com/csebuetnlp/normalizer -q"
   ]
  },
  {
   "cell_type": "code",
   "execution_count": 2,
   "id": "5e026435",
   "metadata": {
    "execution": {
     "iopub.execute_input": "2024-12-26T05:53:27.359604Z",
     "iopub.status.busy": "2024-12-26T05:53:27.359294Z",
     "iopub.status.idle": "2024-12-26T05:53:35.331200Z",
     "shell.execute_reply": "2024-12-26T05:53:35.330142Z"
    },
    "papermill": {
     "duration": 7.981252,
     "end_time": "2024-12-26T05:53:35.334107",
     "exception": false,
     "start_time": "2024-12-26T05:53:27.352855",
     "status": "completed"
    },
    "tags": []
   },
   "outputs": [],
   "source": [
    "!pip install datasets -q"
   ]
  },
  {
   "cell_type": "code",
   "execution_count": 3,
   "id": "c1ebe0fa",
   "metadata": {
    "execution": {
     "iopub.execute_input": "2024-12-26T05:53:35.344254Z",
     "iopub.status.busy": "2024-12-26T05:53:35.343979Z",
     "iopub.status.idle": "2024-12-26T05:53:53.922207Z",
     "shell.execute_reply": "2024-12-26T05:53:53.921268Z"
    },
    "papermill": {
     "duration": 18.585655,
     "end_time": "2024-12-26T05:53:53.924261",
     "exception": false,
     "start_time": "2024-12-26T05:53:35.338606",
     "status": "completed"
    },
    "tags": []
   },
   "outputs": [],
   "source": [
    "from transformers import AutoModelForSequenceClassification, AutoTokenizer, Trainer, TrainingArguments\n",
    "from sklearn.metrics import accuracy_score, precision_recall_fscore_support\n",
    "from sklearn.model_selection import train_test_split\n",
    "from normalizer import normalize\n",
    "from datasets import load_dataset\n",
    "import torch\n",
    "import numpy as np\n",
    "import pandas as pd"
   ]
  },
  {
   "cell_type": "markdown",
   "id": "b362c693",
   "metadata": {
    "papermill": {
     "duration": 0.004104,
     "end_time": "2024-12-26T05:53:53.932901",
     "exception": false,
     "start_time": "2024-12-26T05:53:53.928797",
     "status": "completed"
    },
    "tags": []
   },
   "source": [
    "# Loading Dataframe"
   ]
  },
  {
   "cell_type": "code",
   "execution_count": 4,
   "id": "574b38bc",
   "metadata": {
    "execution": {
     "iopub.execute_input": "2024-12-26T05:53:53.942671Z",
     "iopub.status.busy": "2024-12-26T05:53:53.942133Z",
     "iopub.status.idle": "2024-12-26T05:53:54.938810Z",
     "shell.execute_reply": "2024-12-26T05:53:54.937883Z"
    },
    "papermill": {
     "duration": 1.003829,
     "end_time": "2024-12-26T05:53:54.940881",
     "exception": false,
     "start_time": "2024-12-26T05:53:53.937052",
     "status": "completed"
    },
    "tags": []
   },
   "outputs": [],
   "source": [
    "df = pd.read_csv(\"/kaggle/input/imdb-bangla-gt-10k/imdb-bangla-gt-10000.csv\")\n",
    "df = df.iloc[:1000]"
   ]
  },
  {
   "cell_type": "code",
   "execution_count": 5,
   "id": "4fad382f",
   "metadata": {
    "execution": {
     "iopub.execute_input": "2024-12-26T05:53:54.950790Z",
     "iopub.status.busy": "2024-12-26T05:53:54.950484Z",
     "iopub.status.idle": "2024-12-26T05:53:54.969262Z",
     "shell.execute_reply": "2024-12-26T05:53:54.968483Z"
    },
    "papermill": {
     "duration": 0.025636,
     "end_time": "2024-12-26T05:53:54.971032",
     "exception": false,
     "start_time": "2024-12-26T05:53:54.945396",
     "status": "completed"
    },
    "tags": []
   },
   "outputs": [
    {
     "data": {
      "text/html": [
       "<div>\n",
       "<style scoped>\n",
       "    .dataframe tbody tr th:only-of-type {\n",
       "        vertical-align: middle;\n",
       "    }\n",
       "\n",
       "    .dataframe tbody tr th {\n",
       "        vertical-align: top;\n",
       "    }\n",
       "\n",
       "    .dataframe thead th {\n",
       "        text-align: right;\n",
       "    }\n",
       "</style>\n",
       "<table border=\"1\" class=\"dataframe\">\n",
       "  <thead>\n",
       "    <tr style=\"text-align: right;\">\n",
       "      <th></th>\n",
       "      <th>Unnamed: 0</th>\n",
       "      <th>review</th>\n",
       "      <th>translated</th>\n",
       "      <th>sentiment</th>\n",
       "    </tr>\n",
       "  </thead>\n",
       "  <tbody>\n",
       "    <tr>\n",
       "      <th>0</th>\n",
       "      <td>0</td>\n",
       "      <td>One of the other reviewers has mentioned that ...</td>\n",
       "      <td>অন্য একজন পর্যালোচক উল্লেখ করেছেন যে মাত্র 1 O...</td>\n",
       "      <td>positive</td>\n",
       "    </tr>\n",
       "    <tr>\n",
       "      <th>1</th>\n",
       "      <td>1</td>\n",
       "      <td>A wonderful little production. &lt;br /&gt;&lt;br /&gt;The...</td>\n",
       "      <td>একটি বিস্ময়কর সামান্য উত্পাদন. &lt;br /&gt;&lt;br /&gt;চি...</td>\n",
       "      <td>positive</td>\n",
       "    </tr>\n",
       "    <tr>\n",
       "      <th>2</th>\n",
       "      <td>2</td>\n",
       "      <td>I thought this was a wonderful way to spend ti...</td>\n",
       "      <td>আমি ভেবেছিলাম খুব গরম গ্রীষ্মের সপ্তাহান্তে সম...</td>\n",
       "      <td>positive</td>\n",
       "    </tr>\n",
       "    <tr>\n",
       "      <th>3</th>\n",
       "      <td>3</td>\n",
       "      <td>Basically there's a family where a little boy ...</td>\n",
       "      <td>মূলত একটি পরিবার আছে যেখানে একটি ছোট ছেলে (জেক...</td>\n",
       "      <td>negative</td>\n",
       "    </tr>\n",
       "    <tr>\n",
       "      <th>4</th>\n",
       "      <td>4</td>\n",
       "      <td>Petter Mattei's \"Love in the Time of Money\" is...</td>\n",
       "      <td>Petter Mattei এর \"লাভ ইন দ্য টাইম অফ মানি\" একট...</td>\n",
       "      <td>positive</td>\n",
       "    </tr>\n",
       "    <tr>\n",
       "      <th>...</th>\n",
       "      <td>...</td>\n",
       "      <td>...</td>\n",
       "      <td>...</td>\n",
       "      <td>...</td>\n",
       "    </tr>\n",
       "    <tr>\n",
       "      <th>995</th>\n",
       "      <td>995</td>\n",
       "      <td>Nothing is sacred. Just ask Ernie Fosselius. T...</td>\n",
       "      <td>কিছুই পবিত্র নয়। শুধু এর্নি ফসেলিয়াসকে জিজ্ঞ...</td>\n",
       "      <td>positive</td>\n",
       "    </tr>\n",
       "    <tr>\n",
       "      <th>996</th>\n",
       "      <td>996</td>\n",
       "      <td>I hated it. I hate self-aware pretentious inan...</td>\n",
       "      <td>আমি এটা ঘৃণা. আমি স্ব-সচেতন ভৌতিক উন্মাদনাকে ঘ...</td>\n",
       "      <td>negative</td>\n",
       "    </tr>\n",
       "    <tr>\n",
       "      <th>997</th>\n",
       "      <td>997</td>\n",
       "      <td>I usually try to be professional and construct...</td>\n",
       "      <td>যখন আমি চলচ্চিত্রের সমালোচনা করি তখন আমি সাধার...</td>\n",
       "      <td>negative</td>\n",
       "    </tr>\n",
       "    <tr>\n",
       "      <th>998</th>\n",
       "      <td>998</td>\n",
       "      <td>If you like me is going to see this in a film ...</td>\n",
       "      <td>যদি আপনি পছন্দ করেন যে আমি এটি আপনার স্কুলে এক...</td>\n",
       "      <td>negative</td>\n",
       "    </tr>\n",
       "    <tr>\n",
       "      <th>999</th>\n",
       "      <td>999</td>\n",
       "      <td>This is like a zoology textbook, given that it...</td>\n",
       "      <td>এটি একটি প্রাণিবিদ্যা পাঠ্যপুস্তকের মতো, কারণ ...</td>\n",
       "      <td>negative</td>\n",
       "    </tr>\n",
       "  </tbody>\n",
       "</table>\n",
       "<p>1000 rows × 4 columns</p>\n",
       "</div>"
      ],
      "text/plain": [
       "     Unnamed: 0                                             review  \\\n",
       "0             0  One of the other reviewers has mentioned that ...   \n",
       "1             1  A wonderful little production. <br /><br />The...   \n",
       "2             2  I thought this was a wonderful way to spend ti...   \n",
       "3             3  Basically there's a family where a little boy ...   \n",
       "4             4  Petter Mattei's \"Love in the Time of Money\" is...   \n",
       "..          ...                                                ...   \n",
       "995         995  Nothing is sacred. Just ask Ernie Fosselius. T...   \n",
       "996         996  I hated it. I hate self-aware pretentious inan...   \n",
       "997         997  I usually try to be professional and construct...   \n",
       "998         998  If you like me is going to see this in a film ...   \n",
       "999         999  This is like a zoology textbook, given that it...   \n",
       "\n",
       "                                            translated sentiment  \n",
       "0    অন্য একজন পর্যালোচক উল্লেখ করেছেন যে মাত্র 1 O...  positive  \n",
       "1    একটি বিস্ময়কর সামান্য উত্পাদন. <br /><br />চি...  positive  \n",
       "2    আমি ভেবেছিলাম খুব গরম গ্রীষ্মের সপ্তাহান্তে সম...  positive  \n",
       "3    মূলত একটি পরিবার আছে যেখানে একটি ছোট ছেলে (জেক...  negative  \n",
       "4    Petter Mattei এর \"লাভ ইন দ্য টাইম অফ মানি\" একট...  positive  \n",
       "..                                                 ...       ...  \n",
       "995  কিছুই পবিত্র নয়। শুধু এর্নি ফসেলিয়াসকে জিজ্ঞ...  positive  \n",
       "996  আমি এটা ঘৃণা. আমি স্ব-সচেতন ভৌতিক উন্মাদনাকে ঘ...  negative  \n",
       "997  যখন আমি চলচ্চিত্রের সমালোচনা করি তখন আমি সাধার...  negative  \n",
       "998  যদি আপনি পছন্দ করেন যে আমি এটি আপনার স্কুলে এক...  negative  \n",
       "999  এটি একটি প্রাণিবিদ্যা পাঠ্যপুস্তকের মতো, কারণ ...  negative  \n",
       "\n",
       "[1000 rows x 4 columns]"
      ]
     },
     "execution_count": 5,
     "metadata": {},
     "output_type": "execute_result"
    }
   ],
   "source": [
    "df"
   ]
  },
  {
   "cell_type": "code",
   "execution_count": 6,
   "id": "08aae347",
   "metadata": {
    "execution": {
     "iopub.execute_input": "2024-12-26T05:53:54.981070Z",
     "iopub.status.busy": "2024-12-26T05:53:54.980772Z",
     "iopub.status.idle": "2024-12-26T05:53:54.987359Z",
     "shell.execute_reply": "2024-12-26T05:53:54.986720Z"
    },
    "papermill": {
     "duration": 0.013178,
     "end_time": "2024-12-26T05:53:54.988855",
     "exception": false,
     "start_time": "2024-12-26T05:53:54.975677",
     "status": "completed"
    },
    "tags": []
   },
   "outputs": [],
   "source": [
    "from datasets import Dataset, DatasetDict\n",
    "train_df, valid_df = train_test_split(df, test_size = 0.3)\n",
    "val_df, test_df = train_test_split(valid_df, test_size = 0.5)"
   ]
  },
  {
   "cell_type": "code",
   "execution_count": 7,
   "id": "c532e98d",
   "metadata": {
    "execution": {
     "iopub.execute_input": "2024-12-26T05:53:54.998927Z",
     "iopub.status.busy": "2024-12-26T05:53:54.998270Z",
     "iopub.status.idle": "2024-12-26T05:53:55.007097Z",
     "shell.execute_reply": "2024-12-26T05:53:55.006300Z"
    },
    "papermill": {
     "duration": 0.015352,
     "end_time": "2024-12-26T05:53:55.008626",
     "exception": false,
     "start_time": "2024-12-26T05:53:54.993274",
     "status": "completed"
    },
    "tags": []
   },
   "outputs": [
    {
     "data": {
      "text/html": [
       "<div>\n",
       "<style scoped>\n",
       "    .dataframe tbody tr th:only-of-type {\n",
       "        vertical-align: middle;\n",
       "    }\n",
       "\n",
       "    .dataframe tbody tr th {\n",
       "        vertical-align: top;\n",
       "    }\n",
       "\n",
       "    .dataframe thead th {\n",
       "        text-align: right;\n",
       "    }\n",
       "</style>\n",
       "<table border=\"1\" class=\"dataframe\">\n",
       "  <thead>\n",
       "    <tr style=\"text-align: right;\">\n",
       "      <th></th>\n",
       "      <th>Unnamed: 0</th>\n",
       "      <th>review</th>\n",
       "      <th>translated</th>\n",
       "      <th>sentiment</th>\n",
       "    </tr>\n",
       "  </thead>\n",
       "  <tbody>\n",
       "    <tr>\n",
       "      <th>354</th>\n",
       "      <td>354</td>\n",
       "      <td>Like the previous poster, I am from northern V...</td>\n",
       "      <td>আগের পোস্টারের মতো, আমি উত্তর ভার্মন্ট থেকে এস...</td>\n",
       "      <td>negative</td>\n",
       "    </tr>\n",
       "    <tr>\n",
       "      <th>307</th>\n",
       "      <td>307</td>\n",
       "      <td>That this movie has been stapled to the wall o...</td>\n",
       "      <td>যে এই সিনেমাটি একটি চ্যাপেলের দেয়ালে স্ট্যাপল...</td>\n",
       "      <td>negative</td>\n",
       "    </tr>\n",
       "    <tr>\n",
       "      <th>733</th>\n",
       "      <td>733</td>\n",
       "      <td>That's how Burt Reynolds describes this film, ...</td>\n",
       "      <td>এইভাবে বার্ট রেনল্ডস এই চলচ্চিত্রটিকে বর্ণনা ক...</td>\n",
       "      <td>positive</td>\n",
       "    </tr>\n",
       "    <tr>\n",
       "      <th>918</th>\n",
       "      <td>918</td>\n",
       "      <td>I know little or nothing about astronomy, but ...</td>\n",
       "      <td>আমি জ্যোতির্বিদ্যা সম্পর্কে কম বা কিছুই জানি ন...</td>\n",
       "      <td>positive</td>\n",
       "    </tr>\n",
       "    <tr>\n",
       "      <th>781</th>\n",
       "      <td>781</td>\n",
       "      <td>I thought that this movie was incredible. I ab...</td>\n",
       "      <td>আমি ভেবেছিলাম এই মুভিটি অবিশ্বাস্য। আমি একেবার...</td>\n",
       "      <td>positive</td>\n",
       "    </tr>\n",
       "    <tr>\n",
       "      <th>...</th>\n",
       "      <td>...</td>\n",
       "      <td>...</td>\n",
       "      <td>...</td>\n",
       "      <td>...</td>\n",
       "    </tr>\n",
       "    <tr>\n",
       "      <th>207</th>\n",
       "      <td>207</td>\n",
       "      <td>I have seen most, if not all of the Laurel &amp; H...</td>\n",
       "      <td>আমি লরেল এবং হার্ডি ক্লাসিক ফিল্ম না হলে বেশির...</td>\n",
       "      <td>negative</td>\n",
       "    </tr>\n",
       "    <tr>\n",
       "      <th>797</th>\n",
       "      <td>797</td>\n",
       "      <td>Emma is a horribly flawed film based on Jane A...</td>\n",
       "      <td>জেন অস্টেন্সের ক্লাসিক উপন্যাসের উপর ভিত্তি কর...</td>\n",
       "      <td>positive</td>\n",
       "    </tr>\n",
       "    <tr>\n",
       "      <th>967</th>\n",
       "      <td>967</td>\n",
       "      <td>Life Begins - and ends - in a typical 1930's m...</td>\n",
       "      <td>জীবন শুরু হয় - এবং শেষ হয় - একটি সাধারণ 1930...</td>\n",
       "      <td>positive</td>\n",
       "    </tr>\n",
       "    <tr>\n",
       "      <th>237</th>\n",
       "      <td>237</td>\n",
       "      <td>This movie is not worth anything. I mean, if y...</td>\n",
       "      <td>এই মুভির কোন মূল্য নেই। আমি বলতে চাচ্ছি, আপনি ...</td>\n",
       "      <td>negative</td>\n",
       "    </tr>\n",
       "    <tr>\n",
       "      <th>94</th>\n",
       "      <td>94</td>\n",
       "      <td>I watched this series out of curiosity,wanting...</td>\n",
       "      <td>আমি কৌতূহলবশত এই সিরিজটি দেখেছি, দেখতে চেয়েছি...</td>\n",
       "      <td>negative</td>\n",
       "    </tr>\n",
       "  </tbody>\n",
       "</table>\n",
       "<p>700 rows × 4 columns</p>\n",
       "</div>"
      ],
      "text/plain": [
       "     Unnamed: 0                                             review  \\\n",
       "354         354  Like the previous poster, I am from northern V...   \n",
       "307         307  That this movie has been stapled to the wall o...   \n",
       "733         733  That's how Burt Reynolds describes this film, ...   \n",
       "918         918  I know little or nothing about astronomy, but ...   \n",
       "781         781  I thought that this movie was incredible. I ab...   \n",
       "..          ...                                                ...   \n",
       "207         207  I have seen most, if not all of the Laurel & H...   \n",
       "797         797  Emma is a horribly flawed film based on Jane A...   \n",
       "967         967  Life Begins - and ends - in a typical 1930's m...   \n",
       "237         237  This movie is not worth anything. I mean, if y...   \n",
       "94           94  I watched this series out of curiosity,wanting...   \n",
       "\n",
       "                                            translated sentiment  \n",
       "354  আগের পোস্টারের মতো, আমি উত্তর ভার্মন্ট থেকে এস...  negative  \n",
       "307  যে এই সিনেমাটি একটি চ্যাপেলের দেয়ালে স্ট্যাপল...  negative  \n",
       "733  এইভাবে বার্ট রেনল্ডস এই চলচ্চিত্রটিকে বর্ণনা ক...  positive  \n",
       "918  আমি জ্যোতির্বিদ্যা সম্পর্কে কম বা কিছুই জানি ন...  positive  \n",
       "781  আমি ভেবেছিলাম এই মুভিটি অবিশ্বাস্য। আমি একেবার...  positive  \n",
       "..                                                 ...       ...  \n",
       "207  আমি লরেল এবং হার্ডি ক্লাসিক ফিল্ম না হলে বেশির...  negative  \n",
       "797  জেন অস্টেন্সের ক্লাসিক উপন্যাসের উপর ভিত্তি কর...  positive  \n",
       "967  জীবন শুরু হয় - এবং শেষ হয় - একটি সাধারণ 1930...  positive  \n",
       "237  এই মুভির কোন মূল্য নেই। আমি বলতে চাচ্ছি, আপনি ...  negative  \n",
       "94   আমি কৌতূহলবশত এই সিরিজটি দেখেছি, দেখতে চেয়েছি...  negative  \n",
       "\n",
       "[700 rows x 4 columns]"
      ]
     },
     "execution_count": 7,
     "metadata": {},
     "output_type": "execute_result"
    }
   ],
   "source": [
    "train_df"
   ]
  },
  {
   "cell_type": "markdown",
   "id": "72eec9ce",
   "metadata": {
    "papermill": {
     "duration": 0.004541,
     "end_time": "2024-12-26T05:53:55.017780",
     "exception": false,
     "start_time": "2024-12-26T05:53:55.013239",
     "status": "completed"
    },
    "tags": []
   },
   "source": [
    "# Tokenization"
   ]
  },
  {
   "cell_type": "code",
   "execution_count": 8,
   "id": "691fe7cc",
   "metadata": {
    "execution": {
     "iopub.execute_input": "2024-12-26T05:53:55.028271Z",
     "iopub.status.busy": "2024-12-26T05:53:55.027739Z",
     "iopub.status.idle": "2024-12-26T05:53:56.351891Z",
     "shell.execute_reply": "2024-12-26T05:53:56.351214Z"
    },
    "papermill": {
     "duration": 1.331368,
     "end_time": "2024-12-26T05:53:56.353747",
     "exception": false,
     "start_time": "2024-12-26T05:53:55.022379",
     "status": "completed"
    },
    "tags": []
   },
   "outputs": [
    {
     "data": {
      "application/vnd.jupyter.widget-view+json": {
       "model_id": "cdf33d927f924214b137ee70bce79bb8",
       "version_major": 2,
       "version_minor": 0
      },
      "text/plain": [
       "tokenizer_config.json:   0%|          | 0.00/119 [00:00<?, ?B/s]"
      ]
     },
     "metadata": {},
     "output_type": "display_data"
    },
    {
     "data": {
      "application/vnd.jupyter.widget-view+json": {
       "model_id": "0f94258065e24bb4add97083daf76f3d",
       "version_major": 2,
       "version_minor": 0
      },
      "text/plain": [
       "config.json:   0%|          | 0.00/586 [00:00<?, ?B/s]"
      ]
     },
     "metadata": {},
     "output_type": "display_data"
    },
    {
     "data": {
      "application/vnd.jupyter.widget-view+json": {
       "model_id": "423ae09722f14ec69d194467ff4ee8ad",
       "version_major": 2,
       "version_minor": 0
      },
      "text/plain": [
       "vocab.txt:   0%|          | 0.00/528k [00:00<?, ?B/s]"
      ]
     },
     "metadata": {},
     "output_type": "display_data"
    },
    {
     "data": {
      "application/vnd.jupyter.widget-view+json": {
       "model_id": "7b858dee49614b66af872ad05dc9ae81",
       "version_major": 2,
       "version_minor": 0
      },
      "text/plain": [
       "special_tokens_map.json:   0%|          | 0.00/112 [00:00<?, ?B/s]"
      ]
     },
     "metadata": {},
     "output_type": "display_data"
    }
   ],
   "source": [
    "checkpoint = \"csebuetnlp/banglabert\"\n",
    "tokenizer = AutoTokenizer.from_pretrained(checkpoint)"
   ]
  },
  {
   "cell_type": "code",
   "execution_count": 9,
   "id": "e819df74",
   "metadata": {
    "execution": {
     "iopub.execute_input": "2024-12-26T05:53:56.365640Z",
     "iopub.status.busy": "2024-12-26T05:53:56.365375Z",
     "iopub.status.idle": "2024-12-26T05:53:56.369270Z",
     "shell.execute_reply": "2024-12-26T05:53:56.368570Z"
    },
    "papermill": {
     "duration": 0.011246,
     "end_time": "2024-12-26T05:53:56.370764",
     "exception": false,
     "start_time": "2024-12-26T05:53:56.359518",
     "status": "completed"
    },
    "tags": []
   },
   "outputs": [],
   "source": [
    "max_length = 256"
   ]
  },
  {
   "cell_type": "code",
   "execution_count": 10,
   "id": "6151f15e",
   "metadata": {
    "execution": {
     "iopub.execute_input": "2024-12-26T05:53:56.381768Z",
     "iopub.status.busy": "2024-12-26T05:53:56.381496Z",
     "iopub.status.idle": "2024-12-26T05:53:58.401801Z",
     "shell.execute_reply": "2024-12-26T05:53:58.401127Z"
    },
    "papermill": {
     "duration": 2.028296,
     "end_time": "2024-12-26T05:53:58.404043",
     "exception": false,
     "start_time": "2024-12-26T05:53:56.375747",
     "status": "completed"
    },
    "tags": []
   },
   "outputs": [],
   "source": [
    "train_encodings = tokenizer(\n",
    "    [normalize(sentence) for sentence in train_df.translated], \n",
    "    truncation=True,\n",
    "    padding=True,\n",
    "    max_length=max_length\n",
    ")\n",
    "\n",
    "val_encodings = tokenizer(\n",
    "    [normalize(sentence) for sentence in valid_df.translated], \n",
    "    truncation=True,\n",
    "    padding=True,\n",
    "    max_length=max_length\n",
    ")\n",
    "\n",
    "test_encodings = tokenizer(\n",
    "    [normalize(sentence) for sentence in test_df.translated], \n",
    "    truncation=True,\n",
    "    padding=True,\n",
    "    max_length=max_length\n",
    ")"
   ]
  },
  {
   "cell_type": "code",
   "execution_count": 11,
   "id": "1d1c4749",
   "metadata": {
    "execution": {
     "iopub.execute_input": "2024-12-26T05:53:58.415803Z",
     "iopub.status.busy": "2024-12-26T05:53:58.415528Z",
     "iopub.status.idle": "2024-12-26T05:53:58.420514Z",
     "shell.execute_reply": "2024-12-26T05:53:58.419862Z"
    },
    "papermill": {
     "duration": 0.012455,
     "end_time": "2024-12-26T05:53:58.422041",
     "exception": false,
     "start_time": "2024-12-26T05:53:58.409586",
     "status": "completed"
    },
    "tags": []
   },
   "outputs": [],
   "source": [
    "class SentimentDataset(torch.utils.data.Dataset):\n",
    "    def __init__(self, encodings, labels):\n",
    "        self.encodings = encodings\n",
    "        self.labels = labels\n",
    "\n",
    "    def __getitem__(self, idx):\n",
    "        item = {key: torch.tensor(val[idx]) for key, val in self.encodings.items()}\n",
    "        item['labels'] = torch.tensor(self.labels[idx])\n",
    "        return item\n",
    "\n",
    "    def __len__(self):\n",
    "        return len(self.labels)"
   ]
  },
  {
   "cell_type": "code",
   "execution_count": 12,
   "id": "9d45cbd7",
   "metadata": {
    "execution": {
     "iopub.execute_input": "2024-12-26T05:53:58.432822Z",
     "iopub.status.busy": "2024-12-26T05:53:58.432597Z",
     "iopub.status.idle": "2024-12-26T05:53:58.488376Z",
     "shell.execute_reply": "2024-12-26T05:53:58.487786Z"
    },
    "papermill": {
     "duration": 0.062927,
     "end_time": "2024-12-26T05:53:58.489912",
     "exception": false,
     "start_time": "2024-12-26T05:53:58.426985",
     "status": "completed"
    },
    "tags": []
   },
   "outputs": [],
   "source": [
    "train_labels = [0 if row.sentiment == \"positive\" else 1 for idx, row in train_df.iterrows()]\n",
    "train_dataset = SentimentDataset(train_encodings, train_labels)\n",
    "val_labels = [0 if row.sentiment == \"positive\" else 1 for idx, row in valid_df.iterrows()]\n",
    "val_dataset = SentimentDataset(val_encodings, val_labels)\n",
    "test_labels = [0 if row.sentiment == \"positive\" else 1 for idx, row in test_df.iterrows()]\n",
    "test_dataset = SentimentDataset(test_encodings, test_labels)"
   ]
  },
  {
   "cell_type": "code",
   "execution_count": null,
   "id": "57acdb80",
   "metadata": {
    "execution": {
     "iopub.execute_input": "2024-12-26T05:53:58.501296Z",
     "iopub.status.busy": "2024-12-26T05:53:58.500660Z",
     "iopub.status.idle": "2024-12-26T05:54:01.324159Z",
     "shell.execute_reply": "2024-12-26T05:54:01.323375Z"
    },
    "papermill": {
     "duration": 2.830952,
     "end_time": "2024-12-26T05:54:01.325983",
     "exception": false,
     "start_time": "2024-12-26T05:53:58.495031",
     "status": "completed"
    },
    "tags": []
   },
   "outputs": [],
   "source": [
    "model = AutoModelForSequenceClassification.from_pretrained(checkpoint, num_labels=2)"
   ]
  },
  {
   "cell_type": "code",
   "execution_count": 14,
   "id": "a7d1c6bc",
   "metadata": {
    "execution": {
     "iopub.execute_input": "2024-12-26T05:54:01.337747Z",
     "iopub.status.busy": "2024-12-26T05:54:01.337483Z",
     "iopub.status.idle": "2024-12-26T05:54:01.448153Z",
     "shell.execute_reply": "2024-12-26T05:54:01.447238Z"
    },
    "papermill": {
     "duration": 0.118558,
     "end_time": "2024-12-26T05:54:01.449985",
     "exception": false,
     "start_time": "2024-12-26T05:54:01.331427",
     "status": "completed"
    },
    "tags": []
   },
   "outputs": [
    {
     "name": "stderr",
     "output_type": "stream",
     "text": [
      "/opt/conda/lib/python3.10/site-packages/transformers/training_args.py:1545: FutureWarning: `evaluation_strategy` is deprecated and will be removed in version 4.46 of 🤗 Transformers. Use `eval_strategy` instead\n",
      "  warnings.warn(\n"
     ]
    }
   ],
   "source": [
    "training_args = TrainingArguments(\n",
    "    output_dir=\"./results\",\n",
    "    num_train_epochs=15,\n",
    "    per_device_train_batch_size=16,\n",
    "    learning_rate=4e-5,\n",
    "    warmup_steps=500,\n",
    "    weight_decay=0.01,\n",
    "    logging_dir='./logs',\n",
    "    logging_steps=10,  \n",
    "    evaluation_strategy=\"epoch\",  \n",
    "    save_strategy=\"epoch\", \n",
    "    report_to=[\"none\"]\n",
    ")"
   ]
  },
  {
   "cell_type": "code",
   "execution_count": 15,
   "id": "0593c6f3",
   "metadata": {
    "execution": {
     "iopub.execute_input": "2024-12-26T05:54:01.462234Z",
     "iopub.status.busy": "2024-12-26T05:54:01.461478Z",
     "iopub.status.idle": "2024-12-26T05:54:01.465891Z",
     "shell.execute_reply": "2024-12-26T05:54:01.465265Z"
    },
    "papermill": {
     "duration": 0.012045,
     "end_time": "2024-12-26T05:54:01.467484",
     "exception": false,
     "start_time": "2024-12-26T05:54:01.455439",
     "status": "completed"
    },
    "tags": []
   },
   "outputs": [],
   "source": [
    "def compute_metrics(pred):\n",
    "    labels = pred.label_ids\n",
    "    preds = pred.predictions.argmax(-1)\n",
    "    precision, recall, f1, _ = precision_recall_fscore_support(labels, preds, average='binary')\n",
    "    acc = accuracy_score(labels, preds)\n",
    "    return {\n",
    "        'accuracy': acc,\n",
    "        'f1': f1,\n",
    "        'precision': precision,\n",
    "        'recall': recall\n",
    "    }"
   ]
  },
  {
   "cell_type": "code",
   "execution_count": 16,
   "id": "9c5b79ea",
   "metadata": {
    "execution": {
     "iopub.execute_input": "2024-12-26T05:54:01.479180Z",
     "iopub.status.busy": "2024-12-26T05:54:01.478917Z",
     "iopub.status.idle": "2024-12-26T05:54:01.797838Z",
     "shell.execute_reply": "2024-12-26T05:54:01.797137Z"
    },
    "papermill": {
     "duration": 0.326885,
     "end_time": "2024-12-26T05:54:01.799908",
     "exception": false,
     "start_time": "2024-12-26T05:54:01.473023",
     "status": "completed"
    },
    "tags": []
   },
   "outputs": [],
   "source": [
    "trainer = Trainer(\n",
    "    model=model,\n",
    "    args=training_args,\n",
    "    train_dataset=train_dataset,\n",
    "    eval_dataset=val_dataset,\n",
    "    compute_metrics=compute_metrics,\n",
    ")"
   ]
  },
  {
   "cell_type": "markdown",
   "id": "eb851582",
   "metadata": {
    "papermill": {
     "duration": 0.00512,
     "end_time": "2024-12-26T05:54:01.810645",
     "exception": false,
     "start_time": "2024-12-26T05:54:01.805525",
     "status": "completed"
    },
    "tags": []
   },
   "source": [
    "# Training"
   ]
  },
  {
   "cell_type": "code",
   "execution_count": 17,
   "id": "49164e2d",
   "metadata": {
    "execution": {
     "iopub.execute_input": "2024-12-26T05:54:01.822184Z",
     "iopub.status.busy": "2024-12-26T05:54:01.821894Z",
     "iopub.status.idle": "2024-12-26T05:59:34.532002Z",
     "shell.execute_reply": "2024-12-26T05:59:34.531067Z"
    },
    "papermill": {
     "duration": 332.723248,
     "end_time": "2024-12-26T05:59:34.539180",
     "exception": false,
     "start_time": "2024-12-26T05:54:01.815932",
     "status": "completed"
    },
    "tags": []
   },
   "outputs": [
    {
     "data": {
      "text/html": [
       "\n",
       "    <div>\n",
       "      \n",
       "      <progress value='660' max='660' style='width:300px; height:20px; vertical-align: middle;'></progress>\n",
       "      [660/660 05:30, Epoch 15/15]\n",
       "    </div>\n",
       "    <table border=\"1\" class=\"dataframe\">\n",
       "  <thead>\n",
       " <tr style=\"text-align: left;\">\n",
       "      <th>Epoch</th>\n",
       "      <th>Training Loss</th>\n",
       "      <th>Validation Loss</th>\n",
       "      <th>Accuracy</th>\n",
       "      <th>F1</th>\n",
       "      <th>Precision</th>\n",
       "      <th>Recall</th>\n",
       "    </tr>\n",
       "  </thead>\n",
       "  <tbody>\n",
       "    <tr>\n",
       "      <td>1</td>\n",
       "      <td>0.691100</td>\n",
       "      <td>0.689336</td>\n",
       "      <td>0.563333</td>\n",
       "      <td>0.373206</td>\n",
       "      <td>0.672414</td>\n",
       "      <td>0.258278</td>\n",
       "    </tr>\n",
       "    <tr>\n",
       "      <td>2</td>\n",
       "      <td>0.678400</td>\n",
       "      <td>0.645962</td>\n",
       "      <td>0.696667</td>\n",
       "      <td>0.757333</td>\n",
       "      <td>0.633929</td>\n",
       "      <td>0.940397</td>\n",
       "    </tr>\n",
       "    <tr>\n",
       "      <td>3</td>\n",
       "      <td>0.495700</td>\n",
       "      <td>0.398580</td>\n",
       "      <td>0.866667</td>\n",
       "      <td>0.861111</td>\n",
       "      <td>0.905109</td>\n",
       "      <td>0.821192</td>\n",
       "    </tr>\n",
       "    <tr>\n",
       "      <td>4</td>\n",
       "      <td>0.302300</td>\n",
       "      <td>0.343224</td>\n",
       "      <td>0.873333</td>\n",
       "      <td>0.875000</td>\n",
       "      <td>0.869281</td>\n",
       "      <td>0.880795</td>\n",
       "    </tr>\n",
       "    <tr>\n",
       "      <td>5</td>\n",
       "      <td>0.259000</td>\n",
       "      <td>0.406575</td>\n",
       "      <td>0.860000</td>\n",
       "      <td>0.871166</td>\n",
       "      <td>0.811429</td>\n",
       "      <td>0.940397</td>\n",
       "    </tr>\n",
       "    <tr>\n",
       "      <td>6</td>\n",
       "      <td>0.241300</td>\n",
       "      <td>0.406706</td>\n",
       "      <td>0.863333</td>\n",
       "      <td>0.873065</td>\n",
       "      <td>0.819767</td>\n",
       "      <td>0.933775</td>\n",
       "    </tr>\n",
       "    <tr>\n",
       "      <td>7</td>\n",
       "      <td>0.099300</td>\n",
       "      <td>0.590384</td>\n",
       "      <td>0.840000</td>\n",
       "      <td>0.853659</td>\n",
       "      <td>0.790960</td>\n",
       "      <td>0.927152</td>\n",
       "    </tr>\n",
       "    <tr>\n",
       "      <td>8</td>\n",
       "      <td>0.206600</td>\n",
       "      <td>0.540507</td>\n",
       "      <td>0.866667</td>\n",
       "      <td>0.865772</td>\n",
       "      <td>0.877551</td>\n",
       "      <td>0.854305</td>\n",
       "    </tr>\n",
       "    <tr>\n",
       "      <td>9</td>\n",
       "      <td>0.013800</td>\n",
       "      <td>0.853116</td>\n",
       "      <td>0.820000</td>\n",
       "      <td>0.842105</td>\n",
       "      <td>0.753927</td>\n",
       "      <td>0.953642</td>\n",
       "    </tr>\n",
       "    <tr>\n",
       "      <td>10</td>\n",
       "      <td>0.277500</td>\n",
       "      <td>1.010042</td>\n",
       "      <td>0.783333</td>\n",
       "      <td>0.741036</td>\n",
       "      <td>0.930000</td>\n",
       "      <td>0.615894</td>\n",
       "    </tr>\n",
       "    <tr>\n",
       "      <td>11</td>\n",
       "      <td>0.012000</td>\n",
       "      <td>0.833714</td>\n",
       "      <td>0.826667</td>\n",
       "      <td>0.816901</td>\n",
       "      <td>0.872180</td>\n",
       "      <td>0.768212</td>\n",
       "    </tr>\n",
       "    <tr>\n",
       "      <td>12</td>\n",
       "      <td>0.197400</td>\n",
       "      <td>0.678969</td>\n",
       "      <td>0.873333</td>\n",
       "      <td>0.874172</td>\n",
       "      <td>0.874172</td>\n",
       "      <td>0.874172</td>\n",
       "    </tr>\n",
       "    <tr>\n",
       "      <td>13</td>\n",
       "      <td>0.036600</td>\n",
       "      <td>0.717185</td>\n",
       "      <td>0.883333</td>\n",
       "      <td>0.883721</td>\n",
       "      <td>0.886667</td>\n",
       "      <td>0.880795</td>\n",
       "    </tr>\n",
       "    <tr>\n",
       "      <td>14</td>\n",
       "      <td>0.002700</td>\n",
       "      <td>0.713053</td>\n",
       "      <td>0.883333</td>\n",
       "      <td>0.887460</td>\n",
       "      <td>0.862500</td>\n",
       "      <td>0.913907</td>\n",
       "    </tr>\n",
       "    <tr>\n",
       "      <td>15</td>\n",
       "      <td>0.002000</td>\n",
       "      <td>0.725535</td>\n",
       "      <td>0.883333</td>\n",
       "      <td>0.883721</td>\n",
       "      <td>0.886667</td>\n",
       "      <td>0.880795</td>\n",
       "    </tr>\n",
       "  </tbody>\n",
       "</table><p>"
      ],
      "text/plain": [
       "<IPython.core.display.HTML object>"
      ]
     },
     "metadata": {},
     "output_type": "display_data"
    },
    {
     "data": {
      "text/plain": [
       "TrainOutput(global_step=660, training_loss=0.2122112213210626, metrics={'train_runtime': 331.5433, 'train_samples_per_second': 31.67, 'train_steps_per_second': 1.991, 'total_flos': 1381333040640000.0, 'train_loss': 0.2122112213210626, 'epoch': 15.0})"
      ]
     },
     "execution_count": 17,
     "metadata": {},
     "output_type": "execute_result"
    }
   ],
   "source": [
    "trainer.train()"
   ]
  },
  {
   "cell_type": "markdown",
   "id": "c3c95359",
   "metadata": {
    "papermill": {
     "duration": 0.006497,
     "end_time": "2024-12-26T05:59:34.551142",
     "exception": false,
     "start_time": "2024-12-26T05:59:34.544645",
     "status": "completed"
    },
    "tags": []
   },
   "source": [
    "# Result"
   ]
  },
  {
   "cell_type": "code",
   "execution_count": 18,
   "id": "08acdd31",
   "metadata": {
    "execution": {
     "iopub.execute_input": "2024-12-26T05:59:34.563466Z",
     "iopub.status.busy": "2024-12-26T05:59:34.563209Z",
     "iopub.status.idle": "2024-12-26T05:59:36.868095Z",
     "shell.execute_reply": "2024-12-26T05:59:36.867089Z"
    },
    "papermill": {
     "duration": 2.313136,
     "end_time": "2024-12-26T05:59:36.869861",
     "exception": false,
     "start_time": "2024-12-26T05:59:34.556725",
     "status": "completed"
    },
    "tags": []
   },
   "outputs": [
    {
     "data": {
      "text/html": [],
      "text/plain": [
       "<IPython.core.display.HTML object>"
      ]
     },
     "metadata": {},
     "output_type": "display_data"
    },
    {
     "name": "stdout",
     "output_type": "stream",
     "text": [
      "\n",
      "========================================\n",
      "             Evaluation Results         \n",
      "========================================\n",
      "Eval Loss                          :   0.7255\n",
      "Eval Accuracy                      :   0.8833\n",
      "Eval F1                            :   0.8837\n",
      "Eval Precision                     :   0.8867\n",
      "Eval Recall                        :   0.8808\n",
      "Eval Runtime                       :   2.2987\n",
      "Eval Samples Per Second            : 130.5110\n",
      "Eval Steps Per Second              :  16.5310\n",
      "Epoch                              :  15.0000\n",
      "====\n"
     ]
    }
   ],
   "source": [
    "eval_results = trainer.evaluate()\n",
    "\n",
    "print(\"\\n\" + \"=\"*40)\n",
    "print(\"    Evaluation Results\".center(40))\n",
    "print(\"=\"*40)\n",
    "\n",
    "for key, value in eval_results.items():\n",
    "    print(f\"{key.replace('_', ' ').title():<35}: {value:>8.4f}\")\n",
    "\n",
    "print(\"=\"*4)"
   ]
  },
  {
   "cell_type": "code",
   "execution_count": 19,
   "id": "07cad6d7",
   "metadata": {
    "execution": {
     "iopub.execute_input": "2024-12-26T05:59:36.882999Z",
     "iopub.status.busy": "2024-12-26T05:59:36.882699Z",
     "iopub.status.idle": "2024-12-26T05:59:38.066647Z",
     "shell.execute_reply": "2024-12-26T05:59:38.065907Z"
    },
    "papermill": {
     "duration": 1.192229,
     "end_time": "2024-12-26T05:59:38.068392",
     "exception": false,
     "start_time": "2024-12-26T05:59:36.876163",
     "status": "completed"
    },
    "tags": []
   },
   "outputs": [],
   "source": [
    "predictions_output = trainer.predict(test_dataset)"
   ]
  },
  {
   "cell_type": "code",
   "execution_count": 20,
   "id": "c281180f",
   "metadata": {
    "execution": {
     "iopub.execute_input": "2024-12-26T05:59:38.081245Z",
     "iopub.status.busy": "2024-12-26T05:59:38.080991Z",
     "iopub.status.idle": "2024-12-26T05:59:38.086144Z",
     "shell.execute_reply": "2024-12-26T05:59:38.085233Z"
    },
    "papermill": {
     "duration": 0.013215,
     "end_time": "2024-12-26T05:59:38.087684",
     "exception": false,
     "start_time": "2024-12-26T05:59:38.074469",
     "status": "completed"
    },
    "tags": []
   },
   "outputs": [
    {
     "name": "stdout",
     "output_type": "stream",
     "text": [
      "\n",
      "========================================\n",
      "                Prediction Metrics      \n",
      "========================================\n",
      "Test Loss                          :   0.6310\n",
      "Test Accuracy                      :   0.9000\n",
      "Test F1                            :   0.9045\n",
      "Test Precision                     :   0.9103\n",
      "Test Recall                        :   0.8987\n",
      "Test Runtime                       :   1.1784\n",
      "Test Samples Per Second            : 127.2930\n",
      "Test Steps Per Second              :  16.1240\n",
      "========================================\n"
     ]
    }
   ],
   "source": [
    "metrics = predictions_output.metrics\n",
    "\n",
    "print(\"\\n\" + \"=\"*40)\n",
    "print(\"           Prediction Metrics\".center(40))\n",
    "print(\"=\"*40)\n",
    "\n",
    "for key, value in metrics.items():\n",
    "    print(f\"{key.replace('_', ' ').title():<35}: {value:>8.4f}\")\n",
    "\n",
    "print(\"=\"*40)"
   ]
  },
  {
   "cell_type": "markdown",
   "id": "f28af419",
   "metadata": {
    "papermill": {
     "duration": 0.005572,
     "end_time": "2024-12-26T05:59:38.099216",
     "exception": false,
     "start_time": "2024-12-26T05:59:38.093644",
     "status": "completed"
    },
    "tags": []
   },
   "source": [
    "# Confusion Matrix"
   ]
  },
  {
   "cell_type": "code",
   "execution_count": 21,
   "id": "f82dc0d3",
   "metadata": {
    "execution": {
     "iopub.execute_input": "2024-12-26T05:59:38.112177Z",
     "iopub.status.busy": "2024-12-26T05:59:38.111941Z",
     "iopub.status.idle": "2024-12-26T05:59:40.413576Z",
     "shell.execute_reply": "2024-12-26T05:59:40.412762Z"
    },
    "papermill": {
     "duration": 2.3103,
     "end_time": "2024-12-26T05:59:40.415342",
     "exception": false,
     "start_time": "2024-12-26T05:59:38.105042",
     "status": "completed"
    },
    "tags": []
   },
   "outputs": [
    {
     "data": {
      "text/html": [],
      "text/plain": [
       "<IPython.core.display.HTML object>"
      ]
     },
     "metadata": {},
     "output_type": "display_data"
    }
   ],
   "source": [
    "predictions_output = trainer.predict(val_dataset)\n",
    "\n",
    "logits = predictions_output.predictions\n",
    "true_labels = predictions_output.label_ids\n",
    "\n",
    "predictions = logits.argmax(axis=-1)"
   ]
  },
  {
   "cell_type": "code",
   "execution_count": 22,
   "id": "36d629da",
   "metadata": {
    "execution": {
     "iopub.execute_input": "2024-12-26T05:59:40.429733Z",
     "iopub.status.busy": "2024-12-26T05:59:40.429482Z",
     "iopub.status.idle": "2024-12-26T05:59:40.973922Z",
     "shell.execute_reply": "2024-12-26T05:59:40.973051Z"
    },
    "papermill": {
     "duration": 0.552704,
     "end_time": "2024-12-26T05:59:40.975453",
     "exception": false,
     "start_time": "2024-12-26T05:59:40.422749",
     "status": "completed"
    },
    "tags": []
   },
   "outputs": [
    {
     "name": "stdout",
     "output_type": "stream",
     "text": [
      "Confusion Matrix:\n",
      "[[132  17]\n",
      " [ 18 133]]\n"
     ]
    },
    {
     "data": {
      "image/png": "[encoded data removed]",
      "text/plain": [
       "<Figure size 640x480 with 2 Axes>"
      ]
     },
     "metadata": {},
     "output_type": "display_data"
    }
   ],
   "source": [
    "from sklearn.metrics import confusion_matrix\n",
    "import seaborn as sns\n",
    "import matplotlib.pyplot as plt\n",
    "\n",
    "predictions = logits.argmax(axis=-1)\n",
    "\n",
    "conf_matrix = confusion_matrix(true_labels, predictions)\n",
    "\n",
    "print(\"Confusion Matrix:\")\n",
    "print(conf_matrix)\n",
    "\n",
    "sns.heatmap(conf_matrix, annot=True, fmt=\"d\", cmap=\"Blues\", xticklabels=[\"Negative\", \"Positive\"], yticklabels=[\"Negative\", \"Positive\"])\n",
    "plt.xlabel(\"Predicted Labels\")\n",
    "plt.ylabel(\"True Labels\")\n",
    "plt.title(\"Confusion Matrix\")\n",
    "plt.show()"
   ]
  }
 ],
 "metadata": {
  "kaggle": {
   "accelerator": "gpu",
   "dataSources": [
    {
     "datasetId": 6375457,
     "sourceId": 10300440,
     "sourceType": "datasetVersion"
    }
   ],
   "dockerImageVersionId": 30787,
   "isGpuEnabled": true,
   "isInternetEnabled": true,
   "language": "python",
   "sourceType": "notebook"
  },
  "kernelspec": {
   "display_name": "Python 3",
   "language": "python",
   "name": "python3"
  },
  "language_info": {
   "codemirror_mode": {
    "name": "ipython",
    "version": 3
   },
   "file_extension": ".py",
   "mimetype": "text/x-python",
   "name": "python",
   "nbconvert_exporter": "python",
   "pygments_lexer": "ipython3",
   "version": "3.10.14"
  },
  "papermill": {
   "default_parameters": {},
   "duration": 394.75998,
   "end_time": "2024-12-26T05:59:43.954717",
   "environment_variables": {},
   "exception": null,
   "input_path": "__notebook__.ipynb",
   "output_path": "__notebook__.ipynb",
   "parameters": {},
   "start_time": "2024-12-26T05:53:09.194737",
   "version": "2.6.0"
  },
  "widgets": {
   "application/vnd.jupyter.widget-state+json": {
    "state": {
     "0f94258065e24bb4add97083daf76f3d": {
      "model_module": "@jupyter-widgets/controls",
      "model_module_version": "1.5.0",
      "model_name": "HBoxModel",
      "state": {
       "_dom_classes": [],
       "_model_module": "@jupyter-widgets/controls",
       "_model_module_version": "1.5.0",
       "_model_name": "HBoxModel",
       "_view_count": null,
       "_view_module": "@jupyter-widgets/controls",
       "_view_module_version": "1.5.0",
       "_view_name": "HBoxView",
       "box_style": "",
       "children": [
        "IPY_MODEL_c40c61b6c2374513aa092e6d833b3f0f",
        "IPY_MODEL_d5a3951d19924ce6bee51559196045c6",
        "IPY_MODEL_96695f8fa8ba4f28b72a3c3157cda309"
       ],
       "layout": "IPY_MODEL_da39b833dc0f4c3bb6c66a2263d50435"
      }
     },
     "19c1f9e1f543460c8ed69c7ec6b6d04d": {
      "model_module": "@jupyter-widgets/base",
      "model_module_version": "1.2.0",
      "model_name": "LayoutModel",
      "state": {
       "_model_module": "@jupyter-widgets/base",
       "_model_module_version": "1.2.0",
       "_model_name": "LayoutModel",
       "_view_count": null,
       "_view_module": "@jupyter-widgets/base",
       "_view_module_version": "1.2.0",
       "_view_name": "LayoutView",
       "align_content": null,
       "align_items": null,
       "align_self": null,
       "border": null,
       "bottom": null,
       "display": null,
       "flex": null,
       "flex_flow": null,
       "grid_area": null,
       "grid_auto_columns": null,
       "grid_auto_flow": null,
       "grid_auto_rows": null,
       "grid_column": null,
       "grid_gap": null,
       "grid_row": null,
       "grid_template_areas": null,
       "grid_template_columns": null,
       "grid_template_rows": null,
       "height": null,
       "justify_content": null,
       "justify_items": null,
       "left": null,
       "margin": null,
       "max_height": null,
       "max_width": null,
       "min_height": null,
       "min_width": null,
       "object_fit": null,
       "object_position": null,
       "order": null,
       "overflow": null,
       "overflow_x": null,
       "overflow_y": null,
       "padding": null,
       "right": null,
       "top": null,
       "visibility": null,
       "width": null
      }
     },
     "206f4d1f0624425f82a1d10dd6b7f0da": {
      "model_module": "@jupyter-widgets/base",
      "model_module_version": "1.2.0",
      "model_name": "LayoutModel",
      "state": {
       "_model_module": "@jupyter-widgets/base",
       "_model_module_version": "1.2.0",
       "_model_name": "LayoutModel",
       "_view_count": null,
       "_view_module": "@jupyter-widgets/base",
       "_view_module_version": "1.2.0",
       "_view_name": "LayoutView",
       "align_content": null,
       "align_items": null,
       "align_self": null,
       "border": null,
       "bottom": null,
       "display": null,
       "flex": null,
       "flex_flow": null,
       "grid_area": null,
       "grid_auto_columns": null,
       "grid_auto_flow": null,
       "grid_auto_rows": null,
       "grid_column": null,
       "grid_gap": null,
       "grid_row": null,
       "grid_template_areas": null,
       "grid_template_columns": null,
       "grid_template_rows": null,
       "height": null,
       "justify_content": null,
       "justify_items": null,
       "left": null,
       "margin": null,
       "max_height": null,
       "max_width": null,
       "min_height": null,
       "min_width": null,
       "object_fit": null,
       "object_position": null,
       "order": null,
       "overflow": null,
       "overflow_x": null,
       "overflow_y": null,
       "padding": null,
       "right": null,
       "top": null,
       "visibility": null,
       "width": null
      }
     },
     "2100e8afa9a34f10a75a9cef006a0e73": {
      "model_module": "@jupyter-widgets/controls",
      "model_module_version": "1.5.0",
      "model_name": "HTMLModel",
      "state": {
       "_dom_classes": [],
       "_model_module": "@jupyter-widgets/controls",
       "_model_module_version": "1.5.0",
       "_model_name": "HTMLModel",
       "_view_count": null,
       "_view_module": "@jupyter-widgets/controls",
       "_view_module_version": "1.5.0",
       "_view_name": "HTMLView",
       "description": "",
       "description_tooltip": null,
       "layout": "IPY_MODEL_b28c1c5dfda444da9e4bbf13c73ab5a7",
       "placeholder": "​",
       "style": "IPY_MODEL_d32c2e50b037482e9c31dde2d0d31b94",
       "value": " 112/112 [00:00&lt;00:00, 11.2kB/s]"
      }
     },
     "25b1e99b912143dcaa54d88bee68beb2": {
      "model_module": "@jupyter-widgets/controls",
      "model_module_version": "1.5.0",
      "model_name": "DescriptionStyleModel",
      "state": {
       "_model_module": "@jupyter-widgets/controls",
       "_model_module_version": "1.5.0",
       "_model_name": "DescriptionStyleModel",
       "_view_count": null,
       "_view_module": "@jupyter-widgets/base",
       "_view_module_version": "1.2.0",
       "_view_name": "StyleView",
       "description_width": ""
      }
     },
     "29be264e6c5043dd995f71b88997b520": {
      "model_module": "@jupyter-widgets/base",
      "model_module_version": "1.2.0",
      "model_name": "LayoutModel",
      "state": {
       "_model_module": "@jupyter-widgets/base",
       "_model_module_version": "1.2.0",
       "_model_name": "LayoutModel",
       "_view_count": null,
       "_view_module": "@jupyter-widgets/base",
       "_view_module_version": "1.2.0",
       "_view_name": "LayoutView",
       "align_content": null,
       "align_items": null,
       "align_self": null,
       "border": null,
       "bottom": null,
       "display": null,
       "flex": null,
       "flex_flow": null,
       "grid_area": null,
       "grid_auto_columns": null,
       "grid_auto_flow": null,
       "grid_auto_rows": null,
       "grid_column": null,
       "grid_gap": null,
       "grid_row": null,
       "grid_template_areas": null,
       "grid_template_columns": null,
       "grid_template_rows": null,
       "height": null,
       "justify_content": null,
       "justify_items": null,
       "left": null,
       "margin": null,
       "max_height": null,
       "max_width": null,
       "min_height": null,
       "min_width": null,
       "object_fit": null,
       "object_position": null,
       "order": null,
       "overflow": null,
       "overflow_x": null,
       "overflow_y": null,
       "padding": null,
       "right": null,
       "top": null,
       "visibility": null,
       "width": null
      }
     },
     "348fd982bbce40c7b437fc5bf0b9f5b4": {
      "model_module": "@jupyter-widgets/controls",
      "model_module_version": "1.5.0",
      "model_name": "HBoxModel",
      "state": {
       "_dom_classes": [],
       "_model_module": "@jupyter-widgets/controls",
       "_model_module_version": "1.5.0",
       "_model_name": "HBoxModel",
       "_view_count": null,
       "_view_module": "@jupyter-widgets/controls",
       "_view_module_version": "1.5.0",
       "_view_name": "HBoxView",
       "box_style": "",
       "children": [
        "IPY_MODEL_b92c8d023ef24572bb68785f1663d2cf",
        "IPY_MODEL_510936bd9da64c64829924293b12e11b",
        "IPY_MODEL_727f064740f04968beba610ffd30265b"
       ],
       "layout": "IPY_MODEL_b4b4af3bdd4a4bdbab3a56e908a7bf4b"
      }
     },
     "39c1b1a181fc46f480e5394166b64945": {
      "model_module": "@jupyter-widgets/controls",
      "model_module_version": "1.5.0",
      "model_name": "DescriptionStyleModel",
      "state": {
       "_model_module": "@jupyter-widgets/controls",
       "_model_module_version": "1.5.0",
       "_model_name": "DescriptionStyleModel",
       "_view_count": null,
       "_view_module": "@jupyter-widgets/base",
       "_view_module_version": "1.2.0",
       "_view_name": "StyleView",
       "description_width": ""
      }
     },
     "39eae736a54d43b6947e0e07cd8fed16": {
      "model_module": "@jupyter-widgets/controls",
      "model_module_version": "1.5.0",
      "model_name": "FloatProgressModel",
      "state": {
       "_dom_classes": [],
       "_model_module": "@jupyter-widgets/controls",
       "_model_module_version": "1.5.0",
       "_model_name": "FloatProgressModel",
       "_view_count": null,
       "_view_module": "@jupyter-widgets/controls",
       "_view_module_version": "1.5.0",
       "_view_name": "ProgressView",
       "bar_style": "success",
       "description": "",
       "description_tooltip": null,
       "layout": "IPY_MODEL_966197dbfbde48d69dfdc6303950aaff",
       "max": 528316,
       "min": 0,
       "orientation": "horizontal",
       "style": "IPY_MODEL_5250dea33a6e4cbd87095be734bb24e4",
       "value": 528316
      }
     },
     "41bc2a13e9484d53932040093e44bedd": {
      "model_module": "@jupyter-widgets/controls",
      "model_module_version": "1.5.0",
      "model_name": "DescriptionStyleModel",
      "state": {
       "_model_module": "@jupyter-widgets/controls",
       "_model_module_version": "1.5.0",
       "_model_name": "DescriptionStyleModel",
       "_view_count": null,
       "_view_module": "@jupyter-widgets/base",
       "_view_module_version": "1.2.0",
       "_view_name": "StyleView",
       "description_width": ""
      }
     },
     "423ae09722f14ec69d194467ff4ee8ad": {
      "model_module": "@jupyter-widgets/controls",
      "model_module_version": "1.5.0",
      "model_name": "HBoxModel",
      "state": {
       "_dom_classes": [],
       "_model_module": "@jupyter-widgets/controls",
       "_model_module_version": "1.5.0",
       "_model_name": "HBoxModel",
       "_view_count": null,
       "_view_module": "@jupyter-widgets/controls",
       "_view_module_version": "1.5.0",
       "_view_name": "HBoxView",
       "box_style": "",
       "children": [
        "IPY_MODEL_d6f75cd8372d4dd08cdbd3054975989b",
        "IPY_MODEL_39eae736a54d43b6947e0e07cd8fed16",
        "IPY_MODEL_4fc83d72c03b44658a63df23e4317c52"
       ],
       "layout": "IPY_MODEL_206f4d1f0624425f82a1d10dd6b7f0da"
      }
     },
     "47d09b12c1a34456992cf561cd407aaf": {
      "model_module": "@jupyter-widgets/controls",
      "model_module_version": "1.5.0",
      "model_name": "ProgressStyleModel",
      "state": {
       "_model_module": "@jupyter-widgets/controls",
       "_model_module_version": "1.5.0",
       "_model_name": "ProgressStyleModel",
       "_view_count": null,
       "_view_module": "@jupyter-widgets/base",
       "_view_module_version": "1.2.0",
       "_view_name": "StyleView",
       "bar_color": null,
       "description_width": ""
      }
     },
     "4fc83d72c03b44658a63df23e4317c52": {
      "model_module": "@jupyter-widgets/controls",
      "model_module_version": "1.5.0",
      "model_name": "HTMLModel",
      "state": {
       "_dom_classes": [],
       "_model_module": "@jupyter-widgets/controls",
       "_model_module_version": "1.5.0",
       "_model_name": "HTMLModel",
       "_view_count": null,
       "_view_module": "@jupyter-widgets/controls",
       "_view_module_version": "1.5.0",
       "_view_name": "HTMLView",
       "description": "",
       "description_tooltip": null,
       "layout": "IPY_MODEL_a14002e86e79466f874d4d025301c196",
       "placeholder": "​",
       "style": "IPY_MODEL_39c1b1a181fc46f480e5394166b64945",
       "value": " 528k/528k [00:00&lt;00:00, 2.98MB/s]"
      }
     },
     "510936bd9da64c64829924293b12e11b": {
      "model_module": "@jupyter-widgets/controls",
      "model_module_version": "1.5.0",
      "model_name": "FloatProgressModel",
      "state": {
       "_dom_classes": [],
       "_model_module": "@jupyter-widgets/controls",
       "_model_module_version": "1.5.0",
       "_model_name": "FloatProgressModel",
       "_view_count": null,
       "_view_module": "@jupyter-widgets/controls",
       "_view_module_version": "1.5.0",
       "_view_name": "ProgressView",
       "bar_style": "success",
       "description": "",
       "description_tooltip": null,
       "layout": "IPY_MODEL_a02416930b53401aa91a98c91b06d2af",
       "max": 442560329,
       "min": 0,
       "orientation": "horizontal",
       "style": "IPY_MODEL_f7aff0f99b4f41bdbe8104af778dfaf3",
       "value": 442560329
      }
     },
     "51cfd594260a4810b5e6037576322e79": {
      "model_module": "@jupyter-widgets/base",
      "model_module_version": "1.2.0",
      "model_name": "LayoutModel",
      "state": {
       "_model_module": "@jupyter-widgets/base",
       "_model_module_version": "1.2.0",
       "_model_name": "LayoutModel",
       "_view_count": null,
       "_view_module": "@jupyter-widgets/base",
       "_view_module_version": "1.2.0",
       "_view_name": "LayoutView",
       "align_content": null,
       "align_items": null,
       "align_self": null,
       "border": null,
       "bottom": null,
       "display": null,
       "flex": null,
       "flex_flow": null,
       "grid_area": null,
       "grid_auto_columns": null,
       "grid_auto_flow": null,
       "grid_auto_rows": null,
       "grid_column": null,
       "grid_gap": null,
       "grid_row": null,
       "grid_template_areas": null,
       "grid_template_columns": null,
       "grid_template_rows": null,
       "height": null,
       "justify_content": null,
       "justify_items": null,
       "left": null,
       "margin": null,
       "max_height": null,
       "max_width": null,
       "min_height": null,
       "min_width": null,
       "object_fit": null,
       "object_position": null,
       "order": null,
       "overflow": null,
       "overflow_x": null,
       "overflow_y": null,
       "padding": null,
       "right": null,
       "top": null,
       "visibility": null,
       "width": null
      }
     },
     "5250dea33a6e4cbd87095be734bb24e4": {
      "model_module": "@jupyter-widgets/controls",
      "model_module_version": "1.5.0",
      "model_name": "ProgressStyleModel",
      "state": {
       "_model_module": "@jupyter-widgets/controls",
       "_model_module_version": "1.5.0",
       "_model_name": "ProgressStyleModel",
       "_view_count": null,
       "_view_module": "@jupyter-widgets/base",
       "_view_module_version": "1.2.0",
       "_view_name": "StyleView",
       "bar_color": null,
       "description_width": ""
      }
     },
     "565adc8e93c34d2ca74ea1d0784a6c74": {
      "model_module": "@jupyter-widgets/base",
      "model_module_version": "1.2.0",
      "model_name": "LayoutModel",
      "state": {
       "_model_module": "@jupyter-widgets/base",
       "_model_module_version": "1.2.0",
       "_model_name": "LayoutModel",
       "_view_count": null,
       "_view_module": "@jupyter-widgets/base",
       "_view_module_version": "1.2.0",
       "_view_name": "LayoutView",
       "align_content": null,
       "align_items": null,
       "align_self": null,
       "border": null,
       "bottom": null,
       "display": null,
       "flex": null,
       "flex_flow": null,
       "grid_area": null,
       "grid_auto_columns": null,
       "grid_auto_flow": null,
       "grid_auto_rows": null,
       "grid_column": null,
       "grid_gap": null,
       "grid_row": null,
       "grid_template_areas": null,
       "grid_template_columns": null,
       "grid_template_rows": null,
       "height": null,
       "justify_content": null,
       "justify_items": null,
       "left": null,
       "margin": null,
       "max_height": null,
       "max_width": null,
       "min_height": null,
       "min_width": null,
       "object_fit": null,
       "object_position": null,
       "order": null,
       "overflow": null,
       "overflow_x": null,
       "overflow_y": null,
       "padding": null,
       "right": null,
       "top": null,
       "visibility": null,
       "width": null
      }
     },
     "60c9d4d03dbc434a80e1c3875169066c": {
      "model_module": "@jupyter-widgets/base",
      "model_module_version": "1.2.0",
      "model_name": "LayoutModel",
      "state": {
       "_model_module": "@jupyter-widgets/base",
       "_model_module_version": "1.2.0",
       "_model_name": "LayoutModel",
       "_view_count": null,
       "_view_module": "@jupyter-widgets/base",
       "_view_module_version": "1.2.0",
       "_view_name": "LayoutView",
       "align_content": null,
       "align_items": null,
       "align_self": null,
       "border": null,
       "bottom": null,
       "display": null,
       "flex": null,
       "flex_flow": null,
       "grid_area": null,
       "grid_auto_columns": null,
       "grid_auto_flow": null,
       "grid_auto_rows": null,
       "grid_column": null,
       "grid_gap": null,
       "grid_row": null,
       "grid_template_areas": null,
       "grid_template_columns": null,
       "grid_template_rows": null,
       "height": null,
       "justify_content": null,
       "justify_items": null,
       "left": null,
       "margin": null,
       "max_height": null,
       "max_width": null,
       "min_height": null,
       "min_width": null,
       "object_fit": null,
       "object_position": null,
       "order": null,
       "overflow": null,
       "overflow_x": null,
       "overflow_y": null,
       "padding": null,
       "right": null,
       "top": null,
       "visibility": null,
       "width": null
      }
     },
     "6a8e90c09cc14fd5a3579796bdfdbfac": {
      "model_module": "@jupyter-widgets/controls",
      "model_module_version": "1.5.0",
      "model_name": "DescriptionStyleModel",
      "state": {
       "_model_module": "@jupyter-widgets/controls",
       "_model_module_version": "1.5.0",
       "_model_name": "DescriptionStyleModel",
       "_view_count": null,
       "_view_module": "@jupyter-widgets/base",
       "_view_module_version": "1.2.0",
       "_view_name": "StyleView",
       "description_width": ""
      }
     },
     "727f064740f04968beba610ffd30265b": {
      "model_module": "@jupyter-widgets/controls",
      "model_module_version": "1.5.0",
      "model_name": "HTMLModel",
      "state": {
       "_dom_classes": [],
       "_model_module": "@jupyter-widgets/controls",
       "_model_module_version": "1.5.0",
       "_model_name": "HTMLModel",
       "_view_count": null,
       "_view_module": "@jupyter-widgets/controls",
       "_view_module_version": "1.5.0",
       "_view_name": "HTMLView",
       "description": "",
       "description_tooltip": null,
       "layout": "IPY_MODEL_51cfd594260a4810b5e6037576322e79",
       "placeholder": "​",
       "style": "IPY_MODEL_db6a8cb24e2c48d2a15149c2decd5fc6",
       "value": " 443M/443M [00:01&lt;00:00, 209MB/s]"
      }
     },
     "7b858dee49614b66af872ad05dc9ae81": {
      "model_module": "@jupyter-widgets/controls",
      "model_module_version": "1.5.0",
      "model_name": "HBoxModel",
      "state": {
       "_dom_classes": [],
       "_model_module": "@jupyter-widgets/controls",
       "_model_module_version": "1.5.0",
       "_model_name": "HBoxModel",
       "_view_count": null,
       "_view_module": "@jupyter-widgets/controls",
       "_view_module_version": "1.5.0",
       "_view_name": "HBoxView",
       "box_style": "",
       "children": [
        "IPY_MODEL_fbc1472d19734061929b2e37cec93b4e",
        "IPY_MODEL_86a667877d994f4289bd3370fb73eace",
        "IPY_MODEL_2100e8afa9a34f10a75a9cef006a0e73"
       ],
       "layout": "IPY_MODEL_f74eb0c549c64358933bddd3c9063681"
      }
     },
     "82670ae7ea2f499cac7f166d118dc498": {
      "model_module": "@jupyter-widgets/controls",
      "model_module_version": "1.5.0",
      "model_name": "ProgressStyleModel",
      "state": {
       "_model_module": "@jupyter-widgets/controls",
       "_model_module_version": "1.5.0",
       "_model_name": "ProgressStyleModel",
       "_view_count": null,
       "_view_module": "@jupyter-widgets/base",
       "_view_module_version": "1.2.0",
       "_view_name": "StyleView",
       "bar_color": null,
       "description_width": ""
      }
     },
     "865b2c7048b84d4a9e54bad5fd851dca": {
      "model_module": "@jupyter-widgets/controls",
      "model_module_version": "1.5.0",
      "model_name": "HTMLModel",
      "state": {
       "_dom_classes": [],
       "_model_module": "@jupyter-widgets/controls",
       "_model_module_version": "1.5.0",
       "_model_name": "HTMLModel",
       "_view_count": null,
       "_view_module": "@jupyter-widgets/controls",
       "_view_module_version": "1.5.0",
       "_view_name": "HTMLView",
       "description": "",
       "description_tooltip": null,
       "layout": "IPY_MODEL_29be264e6c5043dd995f71b88997b520",
       "placeholder": "​",
       "style": "IPY_MODEL_25b1e99b912143dcaa54d88bee68beb2",
       "value": "tokenizer_config.json: 100%"
      }
     },
     "86a667877d994f4289bd3370fb73eace": {
      "model_module": "@jupyter-widgets/controls",
      "model_module_version": "1.5.0",
      "model_name": "FloatProgressModel",
      "state": {
       "_dom_classes": [],
       "_model_module": "@jupyter-widgets/controls",
       "_model_module_version": "1.5.0",
       "_model_name": "FloatProgressModel",
       "_view_count": null,
       "_view_module": "@jupyter-widgets/controls",
       "_view_module_version": "1.5.0",
       "_view_name": "ProgressView",
       "bar_style": "success",
       "description": "",
       "description_tooltip": null,
       "layout": "IPY_MODEL_cbf7c9ac5756446e9630f45ba8b5eeea",
       "max": 112,
       "min": 0,
       "orientation": "horizontal",
       "style": "IPY_MODEL_47d09b12c1a34456992cf561cd407aaf",
       "value": 112
      }
     },
     "966197dbfbde48d69dfdc6303950aaff": {
      "model_module": "@jupyter-widgets/base",
      "model_module_version": "1.2.0",
      "model_name": "LayoutModel",
      "state": {
       "_model_module": "@jupyter-widgets/base",
       "_model_module_version": "1.2.0",
       "_model_name": "LayoutModel",
       "_view_count": null,
       "_view_module": "@jupyter-widgets/base",
       "_view_module_version": "1.2.0",
       "_view_name": "LayoutView",
       "align_content": null,
       "align_items": null,
       "align_self": null,
       "border": null,
       "bottom": null,
       "display": null,
       "flex": null,
       "flex_flow": null,
       "grid_area": null,
       "grid_auto_columns": null,
       "grid_auto_flow": null,
       "grid_auto_rows": null,
       "grid_column": null,
       "grid_gap": null,
       "grid_row": null,
       "grid_template_areas": null,
       "grid_template_columns": null,
       "grid_template_rows": null,
       "height": null,
       "justify_content": null,
       "justify_items": null,
       "left": null,
       "margin": null,
       "max_height": null,
       "max_width": null,
       "min_height": null,
       "min_width": null,
       "object_fit": null,
       "object_position": null,
       "order": null,
       "overflow": null,
       "overflow_x": null,
       "overflow_y": null,
       "padding": null,
       "right": null,
       "top": null,
       "visibility": null,
       "width": null
      }
     },
     "96695f8fa8ba4f28b72a3c3157cda309": {
      "model_module": "@jupyter-widgets/controls",
      "model_module_version": "1.5.0",
      "model_name": "HTMLModel",
      "state": {
       "_dom_classes": [],
       "_model_module": "@jupyter-widgets/controls",
       "_model_module_version": "1.5.0",
       "_model_name": "HTMLModel",
       "_view_count": null,
       "_view_module": "@jupyter-widgets/controls",
       "_view_module_version": "1.5.0",
       "_view_name": "HTMLView",
       "description": "",
       "description_tooltip": null,
       "layout": "IPY_MODEL_19c1f9e1f543460c8ed69c7ec6b6d04d",
       "placeholder": "​",
       "style": "IPY_MODEL_a82707f3c9e04fec84fa3fe797ba6302",
       "value": " 586/586 [00:00&lt;00:00, 57.7kB/s]"
      }
     },
     "9a6c92806cc04465969ae8e4112d5dd5": {
      "model_module": "@jupyter-widgets/base",
      "model_module_version": "1.2.0",
      "model_name": "LayoutModel",
      "state": {
       "_model_module": "@jupyter-widgets/base",
       "_model_module_version": "1.2.0",
       "_model_name": "LayoutModel",
       "_view_count": null,
       "_view_module": "@jupyter-widgets/base",
       "_view_module_version": "1.2.0",
       "_view_name": "LayoutView",
       "align_content": null,
       "align_items": null,
       "align_self": null,
       "border": null,
       "bottom": null,
       "display": null,
       "flex": null,
       "flex_flow": null,
       "grid_area": null,
       "grid_auto_columns": null,
       "grid_auto_flow": null,
       "grid_auto_rows": null,
       "grid_column": null,
       "grid_gap": null,
       "grid_row": null,
       "grid_template_areas": null,
       "grid_template_columns": null,
       "grid_template_rows": null,
       "height": null,
       "justify_content": null,
       "justify_items": null,
       "left": null,
       "margin": null,
       "max_height": null,
       "max_width": null,
       "min_height": null,
       "min_width": null,
       "object_fit": null,
       "object_position": null,
       "order": null,
       "overflow": null,
       "overflow_x": null,
       "overflow_y": null,
       "padding": null,
       "right": null,
       "top": null,
       "visibility": null,
       "width": null
      }
     },
     "a02416930b53401aa91a98c91b06d2af": {
      "model_module": "@jupyter-widgets/base",
      "model_module_version": "1.2.0",
      "model_name": "LayoutModel",
      "state": {
       "_model_module": "@jupyter-widgets/base",
       "_model_module_version": "1.2.0",
       "_model_name": "LayoutModel",
       "_view_count": null,
       "_view_module": "@jupyter-widgets/base",
       "_view_module_version": "1.2.0",
       "_view_name": "LayoutView",
       "align_content": null,
       "align_items": null,
       "align_self": null,
       "border": null,
       "bottom": null,
       "display": null,
       "flex": null,
       "flex_flow": null,
       "grid_area": null,
       "grid_auto_columns": null,
       "grid_auto_flow": null,
       "grid_auto_rows": null,
       "grid_column": null,
       "grid_gap": null,
       "grid_row": null,
       "grid_template_areas": null,
       "grid_template_columns": null,
       "grid_template_rows": null,
       "height": null,
       "justify_content": null,
       "justify_items": null,
       "left": null,
       "margin": null,
       "max_height": null,
       "max_width": null,
       "min_height": null,
       "min_width": null,
       "object_fit": null,
       "object_position": null,
       "order": null,
       "overflow": null,
       "overflow_x": null,
       "overflow_y": null,
       "padding": null,
       "right": null,
       "top": null,
       "visibility": null,
       "width": null
      }
     },
     "a14002e86e79466f874d4d025301c196": {
      "model_module": "@jupyter-widgets/base",
      "model_module_version": "1.2.0",
      "model_name": "LayoutModel",
      "state": {
       "_model_module": "@jupyter-widgets/base",
       "_model_module_version": "1.2.0",
       "_model_name": "LayoutModel",
       "_view_count": null,
       "_view_module": "@jupyter-widgets/base",
       "_view_module_version": "1.2.0",
       "_view_name": "LayoutView",
       "align_content": null,
       "align_items": null,
       "align_self": null,
       "border": null,
       "bottom": null,
       "display": null,
       "flex": null,
       "flex_flow": null,
       "grid_area": null,
       "grid_auto_columns": null,
       "grid_auto_flow": null,
       "grid_auto_rows": null,
       "grid_column": null,
       "grid_gap": null,
       "grid_row": null,
       "grid_template_areas": null,
       "grid_template_columns": null,
       "grid_template_rows": null,
       "height": null,
       "justify_content": null,
       "justify_items": null,
       "left": null,
       "margin": null,
       "max_height": null,
       "max_width": null,
       "min_height": null,
       "min_width": null,
       "object_fit": null,
       "object_position": null,
       "order": null,
       "overflow": null,
       "overflow_x": null,
       "overflow_y": null,
       "padding": null,
       "right": null,
       "top": null,
       "visibility": null,
       "width": null
      }
     },
     "a355121b0c66495394074b06cff95285": {
      "model_module": "@jupyter-widgets/controls",
      "model_module_version": "1.5.0",
      "model_name": "DescriptionStyleModel",
      "state": {
       "_model_module": "@jupyter-widgets/controls",
       "_model_module_version": "1.5.0",
       "_model_name": "DescriptionStyleModel",
       "_view_count": null,
       "_view_module": "@jupyter-widgets/base",
       "_view_module_version": "1.2.0",
       "_view_name": "StyleView",
       "description_width": ""
      }
     },
     "a82707f3c9e04fec84fa3fe797ba6302": {
      "model_module": "@jupyter-widgets/controls",
      "model_module_version": "1.5.0",
      "model_name": "DescriptionStyleModel",
      "state": {
       "_model_module": "@jupyter-widgets/controls",
       "_model_module_version": "1.5.0",
       "_model_name": "DescriptionStyleModel",
       "_view_count": null,
       "_view_module": "@jupyter-widgets/base",
       "_view_module_version": "1.2.0",
       "_view_name": "StyleView",
       "description_width": ""
      }
     },
     "aa85cfae668a4b8a92e4c563ed3c1e3f": {
      "model_module": "@jupyter-widgets/controls",
      "model_module_version": "1.5.0",
      "model_name": "FloatProgressModel",
      "state": {
       "_dom_classes": [],
       "_model_module": "@jupyter-widgets/controls",
       "_model_module_version": "1.5.0",
       "_model_name": "FloatProgressModel",
       "_view_count": null,
       "_view_module": "@jupyter-widgets/controls",
       "_view_module_version": "1.5.0",
       "_view_name": "ProgressView",
       "bar_style": "success",
       "description": "",
       "description_tooltip": null,
       "layout": "IPY_MODEL_565adc8e93c34d2ca74ea1d0784a6c74",
       "max": 119,
       "min": 0,
       "orientation": "horizontal",
       "style": "IPY_MODEL_daa92edde81d426588ad180482a853c1",
       "value": 119
      }
     },
     "ab295e5fb3504a82a0531617d69dfdd9": {
      "model_module": "@jupyter-widgets/base",
      "model_module_version": "1.2.0",
      "model_name": "LayoutModel",
      "state": {
       "_model_module": "@jupyter-widgets/base",
       "_model_module_version": "1.2.0",
       "_model_name": "LayoutModel",
       "_view_count": null,
       "_view_module": "@jupyter-widgets/base",
       "_view_module_version": "1.2.0",
       "_view_name": "LayoutView",
       "align_content": null,
       "align_items": null,
       "align_self": null,
       "border": null,
       "bottom": null,
       "display": null,
       "flex": null,
       "flex_flow": null,
       "grid_area": null,
       "grid_auto_columns": null,
       "grid_auto_flow": null,
       "grid_auto_rows": null,
       "grid_column": null,
       "grid_gap": null,
       "grid_row": null,
       "grid_template_areas": null,
       "grid_template_columns": null,
       "grid_template_rows": null,
       "height": null,
       "justify_content": null,
       "justify_items": null,
       "left": null,
       "margin": null,
       "max_height": null,
       "max_width": null,
       "min_height": null,
       "min_width": null,
       "object_fit": null,
       "object_position": null,
       "order": null,
       "overflow": null,
       "overflow_x": null,
       "overflow_y": null,
       "padding": null,
       "right": null,
       "top": null,
       "visibility": null,
       "width": null
      }
     },
     "b26685170d7f46989b02fb4762e5557e": {
      "model_module": "@jupyter-widgets/base",
      "model_module_version": "1.2.0",
      "model_name": "LayoutModel",
      "state": {
       "_model_module": "@jupyter-widgets/base",
       "_model_module_version": "1.2.0",
       "_model_name": "LayoutModel",
       "_view_count": null,
       "_view_module": "@jupyter-widgets/base",
       "_view_module_version": "1.2.0",
       "_view_name": "LayoutView",
       "align_content": null,
       "align_items": null,
       "align_self": null,
       "border": null,
       "bottom": null,
       "display": null,
       "flex": null,
       "flex_flow": null,
       "grid_area": null,
       "grid_auto_columns": null,
       "grid_auto_flow": null,
       "grid_auto_rows": null,
       "grid_column": null,
       "grid_gap": null,
       "grid_row": null,
       "grid_template_areas": null,
       "grid_template_columns": null,
       "grid_template_rows": null,
       "height": null,
       "justify_content": null,
       "justify_items": null,
       "left": null,
       "margin": null,
       "max_height": null,
       "max_width": null,
       "min_height": null,
       "min_width": null,
       "object_fit": null,
       "object_position": null,
       "order": null,
       "overflow": null,
       "overflow_x": null,
       "overflow_y": null,
       "padding": null,
       "right": null,
       "top": null,
       "visibility": null,
       "width": null
      }
     },
     "b28c1c5dfda444da9e4bbf13c73ab5a7": {
      "model_module": "@jupyter-widgets/base",
      "model_module_version": "1.2.0",
      "model_name": "LayoutModel",
      "state": {
       "_model_module": "@jupyter-widgets/base",
       "_model_module_version": "1.2.0",
       "_model_name": "LayoutModel",
       "_view_count": null,
       "_view_module": "@jupyter-widgets/base",
       "_view_module_version": "1.2.0",
       "_view_name": "LayoutView",
       "align_content": null,
       "align_items": null,
       "align_self": null,
       "border": null,
       "bottom": null,
       "display": null,
       "flex": null,
       "flex_flow": null,
       "grid_area": null,
       "grid_auto_columns": null,
       "grid_auto_flow": null,
       "grid_auto_rows": null,
       "grid_column": null,
       "grid_gap": null,
       "grid_row": null,
       "grid_template_areas": null,
       "grid_template_columns": null,
       "grid_template_rows": null,
       "height": null,
       "justify_content": null,
       "justify_items": null,
       "left": null,
       "margin": null,
       "max_height": null,
       "max_width": null,
       "min_height": null,
       "min_width": null,
       "object_fit": null,
       "object_position": null,
       "order": null,
       "overflow": null,
       "overflow_x": null,
       "overflow_y": null,
       "padding": null,
       "right": null,
       "top": null,
       "visibility": null,
       "width": null
      }
     },
     "b4b4af3bdd4a4bdbab3a56e908a7bf4b": {
      "model_module": "@jupyter-widgets/base",
      "model_module_version": "1.2.0",
      "model_name": "LayoutModel",
      "state": {
       "_model_module": "@jupyter-widgets/base",
       "_model_module_version": "1.2.0",
       "_model_name": "LayoutModel",
       "_view_count": null,
       "_view_module": "@jupyter-widgets/base",
       "_view_module_version": "1.2.0",
       "_view_name": "LayoutView",
       "align_content": null,
       "align_items": null,
       "align_self": null,
       "border": null,
       "bottom": null,
       "display": null,
       "flex": null,
       "flex_flow": null,
       "grid_area": null,
       "grid_auto_columns": null,
       "grid_auto_flow": null,
       "grid_auto_rows": null,
       "grid_column": null,
       "grid_gap": null,
       "grid_row": null,
       "grid_template_areas": null,
       "grid_template_columns": null,
       "grid_template_rows": null,
       "height": null,
       "justify_content": null,
       "justify_items": null,
       "left": null,
       "margin": null,
       "max_height": null,
       "max_width": null,
       "min_height": null,
       "min_width": null,
       "object_fit": null,
       "object_position": null,
       "order": null,
       "overflow": null,
       "overflow_x": null,
       "overflow_y": null,
       "padding": null,
       "right": null,
       "top": null,
       "visibility": null,
       "width": null
      }
     },
     "b85d31c9cf6341f7a698aa2a6d582d05": {
      "model_module": "@jupyter-widgets/base",
      "model_module_version": "1.2.0",
      "model_name": "LayoutModel",
      "state": {
       "_model_module": "@jupyter-widgets/base",
       "_model_module_version": "1.2.0",
       "_model_name": "LayoutModel",
       "_view_count": null,
       "_view_module": "@jupyter-widgets/base",
       "_view_module_version": "1.2.0",
       "_view_name": "LayoutView",
       "align_content": null,
       "align_items": null,
       "align_self": null,
       "border": null,
       "bottom": null,
       "display": null,
       "flex": null,
       "flex_flow": null,
       "grid_area": null,
       "grid_auto_columns": null,
       "grid_auto_flow": null,
       "grid_auto_rows": null,
       "grid_column": null,
       "grid_gap": null,
       "grid_row": null,
       "grid_template_areas": null,
       "grid_template_columns": null,
       "grid_template_rows": null,
       "height": null,
       "justify_content": null,
       "justify_items": null,
       "left": null,
       "margin": null,
       "max_height": null,
       "max_width": null,
       "min_height": null,
       "min_width": null,
       "object_fit": null,
       "object_position": null,
       "order": null,
       "overflow": null,
       "overflow_x": null,
       "overflow_y": null,
       "padding": null,
       "right": null,
       "top": null,
       "visibility": null,
       "width": null
      }
     },
     "b92c8d023ef24572bb68785f1663d2cf": {
      "model_module": "@jupyter-widgets/controls",
      "model_module_version": "1.5.0",
      "model_name": "HTMLModel",
      "state": {
       "_dom_classes": [],
       "_model_module": "@jupyter-widgets/controls",
       "_model_module_version": "1.5.0",
       "_model_name": "HTMLModel",
       "_view_count": null,
       "_view_module": "@jupyter-widgets/controls",
       "_view_module_version": "1.5.0",
       "_view_name": "HTMLView",
       "description": "",
       "description_tooltip": null,
       "layout": "IPY_MODEL_def3073fc0cc4defaec57bde05eab507",
       "placeholder": "​",
       "style": "IPY_MODEL_e44af05f7ae94a26891880d8f1b0aa77",
       "value": "pytorch_model.bin: 100%"
      }
     },
     "be2c4ae0d3524ce3871d510ef70f38be": {
      "model_module": "@jupyter-widgets/base",
      "model_module_version": "1.2.0",
      "model_name": "LayoutModel",
      "state": {
       "_model_module": "@jupyter-widgets/base",
       "_model_module_version": "1.2.0",
       "_model_name": "LayoutModel",
       "_view_count": null,
       "_view_module": "@jupyter-widgets/base",
       "_view_module_version": "1.2.0",
       "_view_name": "LayoutView",
       "align_content": null,
       "align_items": null,
       "align_self": null,
       "border": null,
       "bottom": null,
       "display": null,
       "flex": null,
       "flex_flow": null,
       "grid_area": null,
       "grid_auto_columns": null,
       "grid_auto_flow": null,
       "grid_auto_rows": null,
       "grid_column": null,
       "grid_gap": null,
       "grid_row": null,
       "grid_template_areas": null,
       "grid_template_columns": null,
       "grid_template_rows": null,
       "height": null,
       "justify_content": null,
       "justify_items": null,
       "left": null,
       "margin": null,
       "max_height": null,
       "max_width": null,
       "min_height": null,
       "min_width": null,
       "object_fit": null,
       "object_position": null,
       "order": null,
       "overflow": null,
       "overflow_x": null,
       "overflow_y": null,
       "padding": null,
       "right": null,
       "top": null,
       "visibility": null,
       "width": null
      }
     },
     "c40c61b6c2374513aa092e6d833b3f0f": {
      "model_module": "@jupyter-widgets/controls",
      "model_module_version": "1.5.0",
      "model_name": "HTMLModel",
      "state": {
       "_dom_classes": [],
       "_model_module": "@jupyter-widgets/controls",
       "_model_module_version": "1.5.0",
       "_model_name": "HTMLModel",
       "_view_count": null,
       "_view_module": "@jupyter-widgets/controls",
       "_view_module_version": "1.5.0",
       "_view_name": "HTMLView",
       "description": "",
       "description_tooltip": null,
       "layout": "IPY_MODEL_b85d31c9cf6341f7a698aa2a6d582d05",
       "placeholder": "​",
       "style": "IPY_MODEL_c42f654095fc4328880a7b88b9b37453",
       "value": "config.json: 100%"
      }
     },
     "c42f654095fc4328880a7b88b9b37453": {
      "model_module": "@jupyter-widgets/controls",
      "model_module_version": "1.5.0",
      "model_name": "DescriptionStyleModel",
      "state": {
       "_model_module": "@jupyter-widgets/controls",
       "_model_module_version": "1.5.0",
       "_model_name": "DescriptionStyleModel",
       "_view_count": null,
       "_view_module": "@jupyter-widgets/base",
       "_view_module_version": "1.2.0",
       "_view_name": "StyleView",
       "description_width": ""
      }
     },
     "cbf7c9ac5756446e9630f45ba8b5eeea": {
      "model_module": "@jupyter-widgets/base",
      "model_module_version": "1.2.0",
      "model_name": "LayoutModel",
      "state": {
       "_model_module": "@jupyter-widgets/base",
       "_model_module_version": "1.2.0",
       "_model_name": "LayoutModel",
       "_view_count": null,
       "_view_module": "@jupyter-widgets/base",
       "_view_module_version": "1.2.0",
       "_view_name": "LayoutView",
       "align_content": null,
       "align_items": null,
       "align_self": null,
       "border": null,
       "bottom": null,
       "display": null,
       "flex": null,
       "flex_flow": null,
       "grid_area": null,
       "grid_auto_columns": null,
       "grid_auto_flow": null,
       "grid_auto_rows": null,
       "grid_column": null,
       "grid_gap": null,
       "grid_row": null,
       "grid_template_areas": null,
       "grid_template_columns": null,
       "grid_template_rows": null,
       "height": null,
       "justify_content": null,
       "justify_items": null,
       "left": null,
       "margin": null,
       "max_height": null,
       "max_width": null,
       "min_height": null,
       "min_width": null,
       "object_fit": null,
       "object_position": null,
       "order": null,
       "overflow": null,
       "overflow_x": null,
       "overflow_y": null,
       "padding": null,
       "right": null,
       "top": null,
       "visibility": null,
       "width": null
      }
     },
     "cdf33d927f924214b137ee70bce79bb8": {
      "model_module": "@jupyter-widgets/controls",
      "model_module_version": "1.5.0",
      "model_name": "HBoxModel",
      "state": {
       "_dom_classes": [],
       "_model_module": "@jupyter-widgets/controls",
       "_model_module_version": "1.5.0",
       "_model_name": "HBoxModel",
       "_view_count": null,
       "_view_module": "@jupyter-widgets/controls",
       "_view_module_version": "1.5.0",
       "_view_name": "HBoxView",
       "box_style": "",
       "children": [
        "IPY_MODEL_865b2c7048b84d4a9e54bad5fd851dca",
        "IPY_MODEL_aa85cfae668a4b8a92e4c563ed3c1e3f",
        "IPY_MODEL_f0a4d1cb5732411aabf01b50b81d7f5e"
       ],
       "layout": "IPY_MODEL_ab295e5fb3504a82a0531617d69dfdd9"
      }
     },
     "d32c2e50b037482e9c31dde2d0d31b94": {
      "model_module": "@jupyter-widgets/controls",
      "model_module_version": "1.5.0",
      "model_name": "DescriptionStyleModel",
      "state": {
       "_model_module": "@jupyter-widgets/controls",
       "_model_module_version": "1.5.0",
       "_model_name": "DescriptionStyleModel",
       "_view_count": null,
       "_view_module": "@jupyter-widgets/base",
       "_view_module_version": "1.2.0",
       "_view_name": "StyleView",
       "description_width": ""
      }
     },
     "d5a3951d19924ce6bee51559196045c6": {
      "model_module": "@jupyter-widgets/controls",
      "model_module_version": "1.5.0",
      "model_name": "FloatProgressModel",
      "state": {
       "_dom_classes": [],
       "_model_module": "@jupyter-widgets/controls",
       "_model_module_version": "1.5.0",
       "_model_name": "FloatProgressModel",
       "_view_count": null,
       "_view_module": "@jupyter-widgets/controls",
       "_view_module_version": "1.5.0",
       "_view_name": "ProgressView",
       "bar_style": "success",
       "description": "",
       "description_tooltip": null,
       "layout": "IPY_MODEL_9a6c92806cc04465969ae8e4112d5dd5",
       "max": 586,
       "min": 0,
       "orientation": "horizontal",
       "style": "IPY_MODEL_82670ae7ea2f499cac7f166d118dc498",
       "value": 586
      }
     },
     "d6f75cd8372d4dd08cdbd3054975989b": {
      "model_module": "@jupyter-widgets/controls",
      "model_module_version": "1.5.0",
      "model_name": "HTMLModel",
      "state": {
       "_dom_classes": [],
       "_model_module": "@jupyter-widgets/controls",
       "_model_module_version": "1.5.0",
       "_model_name": "HTMLModel",
       "_view_count": null,
       "_view_module": "@jupyter-widgets/controls",
       "_view_module_version": "1.5.0",
       "_view_name": "HTMLView",
       "description": "",
       "description_tooltip": null,
       "layout": "IPY_MODEL_b26685170d7f46989b02fb4762e5557e",
       "placeholder": "​",
       "style": "IPY_MODEL_6a8e90c09cc14fd5a3579796bdfdbfac",
       "value": "vocab.txt: 100%"
      }
     },
     "da39b833dc0f4c3bb6c66a2263d50435": {
      "model_module": "@jupyter-widgets/base",
      "model_module_version": "1.2.0",
      "model_name": "LayoutModel",
      "state": {
       "_model_module": "@jupyter-widgets/base",
       "_model_module_version": "1.2.0",
       "_model_name": "LayoutModel",
       "_view_count": null,
       "_view_module": "@jupyter-widgets/base",
       "_view_module_version": "1.2.0",
       "_view_name": "LayoutView",
       "align_content": null,
       "align_items": null,
       "align_self": null,
       "border": null,
       "bottom": null,
       "display": null,
       "flex": null,
       "flex_flow": null,
       "grid_area": null,
       "grid_auto_columns": null,
       "grid_auto_flow": null,
       "grid_auto_rows": null,
       "grid_column": null,
       "grid_gap": null,
       "grid_row": null,
       "grid_template_areas": null,
       "grid_template_columns": null,
       "grid_template_rows": null,
       "height": null,
       "justify_content": null,
       "justify_items": null,
       "left": null,
       "margin": null,
       "max_height": null,
       "max_width": null,
       "min_height": null,
       "min_width": null,
       "object_fit": null,
       "object_position": null,
       "order": null,
       "overflow": null,
       "overflow_x": null,
       "overflow_y": null,
       "padding": null,
       "right": null,
       "top": null,
       "visibility": null,
       "width": null
      }
     },
     "daa92edde81d426588ad180482a853c1": {
      "model_module": "@jupyter-widgets/controls",
      "model_module_version": "1.5.0",
      "model_name": "ProgressStyleModel",
      "state": {
       "_model_module": "@jupyter-widgets/controls",
       "_model_module_version": "1.5.0",
       "_model_name": "ProgressStyleModel",
       "_view_count": null,
       "_view_module": "@jupyter-widgets/base",
       "_view_module_version": "1.2.0",
       "_view_name": "StyleView",
       "bar_color": null,
       "description_width": ""
      }
     },
     "db6a8cb24e2c48d2a15149c2decd5fc6": {
      "model_module": "@jupyter-widgets/controls",
      "model_module_version": "1.5.0",
      "model_name": "DescriptionStyleModel",
      "state": {
       "_model_module": "@jupyter-widgets/controls",
       "_model_module_version": "1.5.0",
       "_model_name": "DescriptionStyleModel",
       "_view_count": null,
       "_view_module": "@jupyter-widgets/base",
       "_view_module_version": "1.2.0",
       "_view_name": "StyleView",
       "description_width": ""
      }
     },
     "def3073fc0cc4defaec57bde05eab507": {
      "model_module": "@jupyter-widgets/base",
      "model_module_version": "1.2.0",
      "model_name": "LayoutModel",
      "state": {
       "_model_module": "@jupyter-widgets/base",
       "_model_module_version": "1.2.0",
       "_model_name": "LayoutModel",
       "_view_count": null,
       "_view_module": "@jupyter-widgets/base",
       "_view_module_version": "1.2.0",
       "_view_name": "LayoutView",
       "align_content": null,
       "align_items": null,
       "align_self": null,
       "border": null,
       "bottom": null,
       "display": null,
       "flex": null,
       "flex_flow": null,
       "grid_area": null,
       "grid_auto_columns": null,
       "grid_auto_flow": null,
       "grid_auto_rows": null,
       "grid_column": null,
       "grid_gap": null,
       "grid_row": null,
       "grid_template_areas": null,
       "grid_template_columns": null,
       "grid_template_rows": null,
       "height": null,
       "justify_content": null,
       "justify_items": null,
       "left": null,
       "margin": null,
       "max_height": null,
       "max_width": null,
       "min_height": null,
       "min_width": null,
       "object_fit": null,
       "object_position": null,
       "order": null,
       "overflow": null,
       "overflow_x": null,
       "overflow_y": null,
       "padding": null,
       "right": null,
       "top": null,
       "visibility": null,
       "width": null
      }
     },
     "e44af05f7ae94a26891880d8f1b0aa77": {
      "model_module": "@jupyter-widgets/controls",
      "model_module_version": "1.5.0",
      "model_name": "DescriptionStyleModel",
      "state": {
       "_model_module": "@jupyter-widgets/controls",
       "_model_module_version": "1.5.0",
       "_model_name": "DescriptionStyleModel",
       "_view_count": null,
       "_view_module": "@jupyter-widgets/base",
       "_view_module_version": "1.2.0",
       "_view_name": "StyleView",
       "description_width": ""
      }
     },
     "f0a4d1cb5732411aabf01b50b81d7f5e": {
      "model_module": "@jupyter-widgets/controls",
      "model_module_version": "1.5.0",
      "model_name": "HTMLModel",
      "state": {
       "_dom_classes": [],
       "_model_module": "@jupyter-widgets/controls",
       "_model_module_version": "1.5.0",
       "_model_name": "HTMLModel",
       "_view_count": null,
       "_view_module": "@jupyter-widgets/controls",
       "_view_module_version": "1.5.0",
       "_view_name": "HTMLView",
       "description": "",
       "description_tooltip": null,
       "layout": "IPY_MODEL_be2c4ae0d3524ce3871d510ef70f38be",
       "placeholder": "​",
       "style": "IPY_MODEL_41bc2a13e9484d53932040093e44bedd",
       "value": " 119/119 [00:00&lt;00:00, 11.8kB/s]"
      }
     },
     "f74eb0c549c64358933bddd3c9063681": {
      "model_module": "@jupyter-widgets/base",
      "model_module_version": "1.2.0",
      "model_name": "LayoutModel",
      "state": {
       "_model_module": "@jupyter-widgets/base",
       "_model_module_version": "1.2.0",
       "_model_name": "LayoutModel",
       "_view_count": null,
       "_view_module": "@jupyter-widgets/base",
       "_view_module_version": "1.2.0",
       "_view_name": "LayoutView",
       "align_content": null,
       "align_items": null,
       "align_self": null,
       "border": null,
       "bottom": null,
       "display": null,
       "flex": null,
       "flex_flow": null,
       "grid_area": null,
       "grid_auto_columns": null,
       "grid_auto_flow": null,
       "grid_auto_rows": null,
       "grid_column": null,
       "grid_gap": null,
       "grid_row": null,
       "grid_template_areas": null,
       "grid_template_columns": null,
       "grid_template_rows": null,
       "height": null,
       "justify_content": null,
       "justify_items": null,
       "left": null,
       "margin": null,
       "max_height": null,
       "max_width": null,
       "min_height": null,
       "min_width": null,
       "object_fit": null,
       "object_position": null,
       "order": null,
       "overflow": null,
       "overflow_x": null,
       "overflow_y": null,
       "padding": null,
       "right": null,
       "top": null,
       "visibility": null,
       "width": null
      }
     },
     "f7aff0f99b4f41bdbe8104af778dfaf3": {
      "model_module": "@jupyter-widgets/controls",
      "model_module_version": "1.5.0",
      "model_name": "ProgressStyleModel",
      "state": {
       "_model_module": "@jupyter-widgets/controls",
       "_model_module_version": "1.5.0",
       "_model_name": "ProgressStyleModel",
       "_view_count": null,
       "_view_module": "@jupyter-widgets/base",
       "_view_module_version": "1.2.0",
       "_view_name": "StyleView",
       "bar_color": null,
       "description_width": ""
      }
     },
     "fbc1472d19734061929b2e37cec93b4e": {
      "model_module": "@jupyter-widgets/controls",
      "model_module_version": "1.5.0",
      "model_name": "HTMLModel",
      "state": {
       "_dom_classes": [],
       "_model_module": "@jupyter-widgets/controls",
       "_model_module_version": "1.5.0",
       "_model_name": "HTMLModel",
       "_view_count": null,
       "_view_module": "@jupyter-widgets/controls",
       "_view_module_version": "1.5.0",
       "_view_name": "HTMLView",
       "description": "",
       "description_tooltip": null,
       "layout": "IPY_MODEL_60c9d4d03dbc434a80e1c3875169066c",
       "placeholder": "​",
       "style": "IPY_MODEL_a355121b0c66495394074b06cff95285",
       "value": "special_tokens_map.json: 100%"
      }
     }
    },
    "version_major": 2,
    "version_minor": 0
   }
  }
 },
 "nbformat": 4,
 "nbformat_minor": 5
}
